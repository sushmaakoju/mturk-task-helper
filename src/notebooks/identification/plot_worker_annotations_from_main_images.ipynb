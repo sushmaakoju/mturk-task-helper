{
 "cells": [
  {
   "cell_type": "markdown",
   "id": "living-refund",
   "metadata": {},
   "source": [
    "### This script is for generating crop slices from main image rather than the images workers see and marked. \n",
    "### So output images show the worker annotations for object locations."
   ]
  },
  {
   "cell_type": "code",
   "execution_count": 1,
   "id": "promising-worship",
   "metadata": {},
   "outputs": [],
   "source": [
    "from PIL import Image,ImageDraw\n",
    "import json\n",
    "import numpy as np\n",
    "from matplotlib import pyplot as plt\n",
    "%matplotlib inline\n",
    "import matplotlib.image as mpimg\n",
    "from math import floor\n",
    "\n",
    "from urllib.parse import urlparse\n",
    "import urllib.request, json\n",
    "import requests\n",
    "from io import BytesIO\n",
    "import os\n",
    "Image.MAX_IMAGE_PIXELS = None\n",
    "\n",
    "import boto3\n",
    "import datetime\n",
    "import json\n",
    "import pandas as pd\n",
    "import os\n",
    "from pathlib import Path"
   ]
  },
  {
   "cell_type": "markdown",
   "id": "signed-confidence",
   "metadata": {},
   "source": [
    "### Crop corner images that may location annotations towards corners or edges of main image."
   ]
  },
  {
   "cell_type": "code",
   "execution_count": 2,
   "id": "accessible-transport",
   "metadata": {},
   "outputs": [],
   "source": [
    "def crop_corner_images(im:Image, xy:tuple, size:int, marker_color:tuple, image_file_path):\n",
    "    x,y = xy\n",
    "    crop = im.crop((x-size, y-size, x+size, y+size))\n",
    "    assert crop.size, \"Invalid crop size.\"\n",
    "   \n",
    "    #print(crop.size)\n",
    "    wc,hc = crop.size\n",
    "    draw = ImageDraw.Draw(crop)\n",
    "    w1,h1 = wc//2,hc//2\n",
    "    \n",
    "    draw.line((w1, 0)+ ( w1,hc), fill=marker_color,width=1)\n",
    "    draw.line((0, h1)+ ( wc,h1), fill=marker_color, width=1)\n",
    "   \n",
    "    crop.convert('RGB').save(image_file_path)\n",
    "    w,h = crop.size"
   ]
  },
  {
   "cell_type": "markdown",
   "id": "studied-recommendation",
   "metadata": {},
   "source": [
    "### Mark vehicle location on the cropped slice"
   ]
  },
  {
   "cell_type": "code",
   "execution_count": 3,
   "id": "original-liberty",
   "metadata": {},
   "outputs": [],
   "source": [
    "def mark_bounding_boxes(imarr:np.array, marker_color:tuple, image_file_path:os.path):\n",
    "    img = Image.fromarray(imarr)#.resize((400,400), Image.LANCZOS)\n",
    "    draw = ImageDraw.Draw(img)\n",
    "   \n",
    "    \n",
    "    w,h = img.size\n",
    "\n",
    "    p = ( int(floor(w/2))-50, int(floor(h/2))-50, int(floor(w/2))+50, int(floor(h/2))+50 )\n",
    "    #print(p)\n",
    "\n",
    "  \n",
    "    w1,h1 = (w//2),(h//2)\n",
    "    draw.line((w1, 0)+ ( w1,h), fill=marker_color, width=1)\n",
    "    draw.line((0, h1)+ ( w,h1), fill=marker_color,width=1)\n",
    "   \n",
    "    img.convert('RGB').save(image_file_path)\n",
    "    w,h = img.size"
   ]
  },
  {
   "cell_type": "markdown",
   "id": "stone-blond",
   "metadata": {},
   "source": [
    "#### Correct the path of short answers from Selwyn dataset. Following lines of code needs to be updated in next cell .\n",
    "`filedir = os.path.join(os.path.join(r'C:\\Users\\exx\\Documents\\lab'), \"LINZ\",\"Final\",\"001_selwyn-0125m-urban-aerial-photos-2012-2013\")`"
   ]
  },
  {
   "cell_type": "code",
   "execution_count": 4,
   "id": "printable-surgery",
   "metadata": {},
   "outputs": [
    {
     "data": {
      "text/plain": [
       "['C:\\\\Users\\\\exx\\\\Documents\\\\lab\\\\LINZ\\\\Final\\\\001_selwyn-0125m-urban-aerial-photos-2012-2013\\\\0001',\n",
       " 'C:\\\\Users\\\\exx\\\\Documents\\\\lab\\\\LINZ\\\\Final\\\\001_selwyn-0125m-urban-aerial-photos-2012-2013\\\\0002',\n",
       " 'C:\\\\Users\\\\exx\\\\Documents\\\\lab\\\\LINZ\\\\Final\\\\001_selwyn-0125m-urban-aerial-photos-2012-2013\\\\0003',\n",
       " 'C:\\\\Users\\\\exx\\\\Documents\\\\lab\\\\LINZ\\\\Final\\\\001_selwyn-0125m-urban-aerial-photos-2012-2013\\\\0004',\n",
       " 'C:\\\\Users\\\\exx\\\\Documents\\\\lab\\\\LINZ\\\\Final\\\\001_selwyn-0125m-urban-aerial-photos-2012-2013\\\\0005',\n",
       " 'C:\\\\Users\\\\exx\\\\Documents\\\\lab\\\\LINZ\\\\Final\\\\001_selwyn-0125m-urban-aerial-photos-2012-2013\\\\0006',\n",
       " 'C:\\\\Users\\\\exx\\\\Documents\\\\lab\\\\LINZ\\\\Final\\\\001_selwyn-0125m-urban-aerial-photos-2012-2013\\\\0007',\n",
       " 'C:\\\\Users\\\\exx\\\\Documents\\\\lab\\\\LINZ\\\\Final\\\\001_selwyn-0125m-urban-aerial-photos-2012-2013\\\\0008',\n",
       " 'C:\\\\Users\\\\exx\\\\Documents\\\\lab\\\\LINZ\\\\Final\\\\001_selwyn-0125m-urban-aerial-photos-2012-2013\\\\0009']"
      ]
     },
     "execution_count": 4,
     "metadata": {},
     "output_type": "execute_result"
    }
   ],
   "source": [
    "path = Path(os.getcwd())\n",
    "#get folder's storage\n",
    "filedir = os.path.join(os.path.join(r'C:\\Users\\exx\\Documents\\lab'), \"LINZ\",\"Final\",\"001_selwyn-0125m-urban-aerial-photos-2012-2013\")\n",
    "main_folders = [os.path.join(filedir,name) for name in os.listdir(filedir)]\n",
    "main_folders"
   ]
  },
  {
   "cell_type": "markdown",
   "id": "dietary-conservative",
   "metadata": {},
   "source": [
    "### Load the results path"
   ]
  },
  {
   "cell_type": "code",
   "execution_count": 5,
   "id": "printable-farmer",
   "metadata": {},
   "outputs": [],
   "source": [
    "rootpath = Path(os.getcwd())\n",
    "answers_path = os.path.join(rootpath,\"batch100_HITs\",\"answers\", \"selwyn_answers_identification.csv\")\n",
    "output_path = os.path.join(rootpath,\"batch100_HITs\",\"results\")\n",
    "results_path = os.path.join(rootpath,\"batch100_HITs\",\"batch_results\")"
   ]
  },
  {
   "cell_type": "code",
   "execution_count": 6,
   "id": "rapid-commitment",
   "metadata": {},
   "outputs": [
    {
     "data": {
      "text/plain": [
       "['Batch_xxxxxx_batch_results.csv']"
      ]
     },
     "execution_count": 6,
     "metadata": {},
     "output_type": "execute_result"
    }
   ],
   "source": [
    "files = os.listdir(results_path)\n",
    "files"
   ]
  },
  {
   "cell_type": "markdown",
   "id": "isolated-aurora",
   "metadata": {},
   "source": [
    "### Load batch results to Dataframe"
   ]
  },
  {
   "cell_type": "code",
   "execution_count": 7,
   "id": "robust-roots",
   "metadata": {},
   "outputs": [],
   "source": [
    "df = pd.read_csv(os.path.join(results_path,files[0]))"
   ]
  },
  {
   "cell_type": "code",
   "execution_count": 8,
   "id": "boring-paris",
   "metadata": {},
   "outputs": [
    {
     "data": {
      "text/plain": [
       "Index(['HITId', 'HITTypeId', 'Title', 'Description', 'Keywords', 'Reward',\n",
       "       'CreationTime', 'MaxAssignments', 'RequesterAnnotation',\n",
       "       'AssignmentDurationInSeconds', 'AutoApprovalDelayInSeconds',\n",
       "       'Expiration', 'NumberOfSimilarHITs', 'LifetimeInSeconds',\n",
       "       'AssignmentId', 'WorkerId', 'AssignmentStatus', 'AcceptTime',\n",
       "       'SubmitTime', 'AutoApprovalTime', 'ApprovalTime', 'RejectionTime',\n",
       "       'RequesterFeedback', 'WorkTimeInSeconds', 'LifetimeApprovalRate',\n",
       "       'Last30DaysApprovalRate', 'Last7DaysApprovalRate', 'Input.image1_url',\n",
       "       'Input.image2_url', 'Input.image3_url', 'Input.image4_url',\n",
       "       'Input.image5_url', 'Input.image6_url', 'Input.image7_url',\n",
       "       'Input.image8_url', 'Input.image9_url', 'Input.image10_url',\n",
       "       'Input.image11_url', 'Input.image12_url', 'Input.image13_url',\n",
       "       'Input.image14_url', 'Input.image15_url', 'Input.image16_url',\n",
       "       'Input.image17_url', 'Input.image18_url', 'Input.image19_url',\n",
       "       'Input.image20_url', 'Answer.taskAnswers', 'Approve', 'Reject'],\n",
       "      dtype='object')"
      ]
     },
     "execution_count": 8,
     "metadata": {},
     "output_type": "execute_result"
    }
   ],
   "source": [
    "df.columns"
   ]
  },
  {
   "cell_type": "code",
   "execution_count": 9,
   "id": "backed-apollo",
   "metadata": {},
   "outputs": [],
   "source": [
    "submitted_answers = df[['HITId','Answer.taskAnswers', 'WorkerId', 'WorkTimeInSeconds', 'LifetimeApprovalRate','Approve', 'Reject']]"
   ]
  },
  {
   "cell_type": "code",
   "execution_count": 10,
   "id": "boolean-quality",
   "metadata": {},
   "outputs": [
    {
     "data": {
      "text/plain": [
       "1132"
      ]
     },
     "execution_count": 10,
     "metadata": {},
     "output_type": "execute_result"
    }
   ],
   "source": [
    "submitted_answers['WorkTimeInSeconds'].max()"
   ]
  },
  {
   "cell_type": "code",
   "execution_count": 11,
   "id": "nonprofit-worship",
   "metadata": {},
   "outputs": [
    {
     "data": {
      "text/html": [
       "<div>\n",
       "<style scoped>\n",
       "    .dataframe tbody tr th:only-of-type {\n",
       "        vertical-align: middle;\n",
       "    }\n",
       "\n",
       "    .dataframe tbody tr th {\n",
       "        vertical-align: top;\n",
       "    }\n",
       "\n",
       "    .dataframe thead th {\n",
       "        text-align: right;\n",
       "    }\n",
       "</style>\n",
       "<table border=\"1\" class=\"dataframe\">\n",
       "  <thead>\n",
       "    <tr style=\"text-align: right;\">\n",
       "      <th></th>\n",
       "      <th>Answer.taskAnswers</th>\n",
       "    </tr>\n",
       "  </thead>\n",
       "  <tbody>\n",
       "    <tr>\n",
       "      <th>0</th>\n",
       "      <td>[{\"feedback\":\"I didn't see vehicles in some of...</td>\n",
       "    </tr>\n",
       "    <tr>\n",
       "      <th>1</th>\n",
       "      <td>[{\"feedback\":\"Interesting\",\"https://mturk-s3-c...</td>\n",
       "    </tr>\n",
       "    <tr>\n",
       "      <th>2</th>\n",
       "      <td>[{\"feedback\":\"Interesting\",\"https://mturk-s3-c...</td>\n",
       "    </tr>\n",
       "    <tr>\n",
       "      <th>3</th>\n",
       "      <td>[{\"feedback\":\"There have no vehicle in some of...</td>\n",
       "    </tr>\n",
       "    <tr>\n",
       "      <th>4</th>\n",
       "      <td>[{\"feedback\":\"some of the pictures very diffic...</td>\n",
       "    </tr>\n",
       "  </tbody>\n",
       "</table>\n",
       "</div>"
      ],
      "text/plain": [
       "                                  Answer.taskAnswers\n",
       "0  [{\"feedback\":\"I didn't see vehicles in some of...\n",
       "1  [{\"feedback\":\"Interesting\",\"https://mturk-s3-c...\n",
       "2  [{\"feedback\":\"Interesting\",\"https://mturk-s3-c...\n",
       "3  [{\"feedback\":\"There have no vehicle in some of...\n",
       "4  [{\"feedback\":\"some of the pictures very diffic..."
      ]
     },
     "execution_count": 11,
     "metadata": {},
     "output_type": "execute_result"
    }
   ],
   "source": [
    "submitted_answers[['Answer.taskAnswers']]"
   ]
  },
  {
   "cell_type": "code",
   "execution_count": 12,
   "id": "reflected-sustainability",
   "metadata": {},
   "outputs": [
    {
     "data": {
      "text/plain": [
       "5"
      ]
     },
     "execution_count": 12,
     "metadata": {},
     "output_type": "execute_result"
    }
   ],
   "source": [
    "workers = list(submitted_answers.groupby(['WorkerId']).groups.keys())\n",
    "len(workers)"
   ]
  },
  {
   "cell_type": "markdown",
   "id": "industrial-berry",
   "metadata": {},
   "source": [
    "### Filter by worker id"
   ]
  },
  {
   "cell_type": "code",
   "execution_count": 13,
   "id": "regular-rocket",
   "metadata": {},
   "outputs": [
    {
     "data": {
      "text/html": [
       "<div>\n",
       "<style scoped>\n",
       "    .dataframe tbody tr th:only-of-type {\n",
       "        vertical-align: middle;\n",
       "    }\n",
       "\n",
       "    .dataframe tbody tr th {\n",
       "        vertical-align: top;\n",
       "    }\n",
       "\n",
       "    .dataframe thead th {\n",
       "        text-align: right;\n",
       "    }\n",
       "</style>\n",
       "<table border=\"1\" class=\"dataframe\">\n",
       "  <thead>\n",
       "    <tr style=\"text-align: right;\">\n",
       "      <th></th>\n",
       "      <th>Answer.taskAnswers</th>\n",
       "    </tr>\n",
       "  </thead>\n",
       "  <tbody>\n",
       "    <tr>\n",
       "      <th>0</th>\n",
       "      <td>[{\"feedback\":\"I didn't see vehicles in some of...</td>\n",
       "    </tr>\n",
       "  </tbody>\n",
       "</table>\n",
       "</div>"
      ],
      "text/plain": [
       "                                  Answer.taskAnswers\n",
       "0  [{\"feedback\":\"I didn't see vehicles in some of..."
      ]
     },
     "execution_count": 13,
     "metadata": {},
     "output_type": "execute_result"
    }
   ],
   "source": [
    "submitted_answers.loc[submitted_answers['WorkerId'] == workers[0]] [['Answer.taskAnswers']]"
   ]
  },
  {
   "cell_type": "markdown",
   "id": "administrative-coordination",
   "metadata": {},
   "source": [
    "### Get hit ids from results"
   ]
  },
  {
   "cell_type": "code",
   "execution_count": 14,
   "id": "likely-chester",
   "metadata": {},
   "outputs": [],
   "source": [
    "hitids = list(submitted_answers.groupby(['HITId']).groups.keys())"
   ]
  },
  {
   "cell_type": "code",
   "execution_count": 15,
   "id": "working-rolling",
   "metadata": {},
   "outputs": [
    {
     "data": {
      "text/plain": [
       "5"
      ]
     },
     "execution_count": 15,
     "metadata": {},
     "output_type": "execute_result"
    }
   ],
   "source": [
    "len(hitids)"
   ]
  },
  {
   "cell_type": "markdown",
   "id": "chicken-median",
   "metadata": {},
   "source": [
    "### Load the Ground truth with answers"
   ]
  },
  {
   "cell_type": "code",
   "execution_count": 16,
   "id": "hundred-blend",
   "metadata": {},
   "outputs": [],
   "source": [
    "answers = pd.read_csv(answers_path)"
   ]
  },
  {
   "cell_type": "code",
   "execution_count": 17,
   "id": "stuffed-performer",
   "metadata": {},
   "outputs": [
    {
     "name": "stdout",
     "output_type": "stream",
     "text": [
      "<class 'pandas.core.frame.DataFrame'>\n",
      "RangeIndex: 20 entries, 0 to 19\n",
      "Data columns (total 8 columns):\n",
      " #   Column         Non-Null Count  Dtype \n",
      "---  ------         --------------  ----- \n",
      " 0   image_url      20 non-null     object\n",
      " 1   url            20 non-null     object\n",
      " 2   vehicle_types  20 non-null     object\n",
      " 3   # of vehicles  20 non-null     int64 \n",
      " 4   truck          2 non-null      object\n",
      " 5   small          3 non-null      object\n",
      " 6   specialized    1 non-null      object\n",
      " 7   trailer_small  3 non-null      object\n",
      "dtypes: int64(1), object(7)\n",
      "memory usage: 1.4+ KB\n"
     ]
    }
   ],
   "source": [
    "answers.info()"
   ]
  },
  {
   "cell_type": "code",
   "execution_count": 18,
   "id": "focal-blood",
   "metadata": {},
   "outputs": [],
   "source": [
    "#h,w,_ = imarray.shape\n",
    "overlap = 0.2\n",
    "tile_size = 300\n",
    "stride = int(tile_size * (1-overlap))\n",
    "window_width = tile_size\n",
    "marker_color = (200,200,200,255)\n",
    "\n",
    "cropsize = 306\n",
    "size = int(cropsize/2)"
   ]
  },
  {
   "cell_type": "markdown",
   "id": "tight-ordering",
   "metadata": {},
   "source": [
    "### For each worker, extract locations, transform to main image locations and crop the slices from main images (main images are actually larger than the slices.)\n",
    "#### Each of cropped slice is saved to image file path that has been sent as input to each of crop_corner_images or mark_bounding_boxes.\n",
    "#### if you want to save these images to specific path, please make sure to pass the correct path to both of these crop_corner_images or mark_bounding_boxes methods."
   ]
  },
  {
   "cell_type": "code",
   "execution_count": 20,
   "id": "fifteen-haven",
   "metadata": {},
   "outputs": [],
   "source": [
    "for worker in workers:\n",
    "    worker_total_scores = 0\n",
    "    total_worker_time = 0\n",
    "    worker_answers = submitted_answers.loc[submitted_answers['WorkerId'] == worker]\n",
    "    \n",
    "    for index in worker_answers.index:\n",
    "        feedback = \"\"\n",
    "    \n",
    "        ans = worker_answers['Answer.taskAnswers'][index]\n",
    "        #print(ans)\n",
    "        ans = json.loads(ans)#.replace(\"[\",\"\").replace(\"]\",\"\"))\n",
    "        \n",
    "        if not os.path.exists(os.path.join(output_path,\"from_main_image\",worker)):\n",
    "            os.mkdir(os.path.join(output_path,\"from_main_image\",worker))\n",
    "        outdirectory = os.path.join(output_path,\"from_main_image\",worker)\n",
    "        \n",
    "        for k,v in ans[0].items():\n",
    "            if k != \"feedback\" :\n",
    "                foldername, filename = k.split(\"/\")[6:]\n",
    "                x,y = filename.split(\".\")[0].split(\"-\")[2:]\n",
    "                x,y = int(x),int(y)\n",
    "                mainfolder,subfolder = foldername.split(\"_\")\n",
    "                main_image_name = foldername+\"_image.png\"\n",
    "                row = answers.loc[answers['url'] == k].fillna('')\n",
    "                #print(filename)\n",
    "                \n",
    "                if not os.path.exists(os.path.join(outdirectory,foldername)):\n",
    "                    os.mkdir(os.path.join(outdirectory,foldername))\n",
    "\n",
    "                if len(v['keypoints']) != 0:\n",
    "                    im = Image.open(os.path.join(filedir,mainfolder, subfolder, main_image_name))\n",
    "                    #print(im.size,x,y )\n",
    "                    w,h = im.size\n",
    "                    imarray = np.asarray(im)\n",
    "                    #print(imarray.shape)\n",
    "                    pts = [[int(pt['x']),int(pt['y'])] for pt in v[\"keypoints\"]]\n",
    "                    for pt in pts:\n",
    "                        #print(pt, pt[1]+x, pt[0]+y)\n",
    "                        i,j = pt[1]+y, pt[0]+x\n",
    "                        imname = os.path.join(outdirectory,foldername, str(i)+\"-\"+str(j)+\".png\")\n",
    "\n",
    "                        crop_slice = np.s_[i-size:i+size, j-size:j+size]\n",
    "                        needs_padding = False\n",
    "                        for slic in crop_slice:\n",
    "                            if slic.start < 0 or (slic.stop-slic.start) < (2*size):\n",
    "                                #print(slic.start, slic.stop-slic.start, 2*size)\n",
    "                                needs_padding = True\n",
    "                                break\n",
    "                        #print(needs_padding, marker_color, x,y)\n",
    "                        if needs_padding:\n",
    "                            crop_corner_images(im, (j,i), size, marker_color,imname)\n",
    "                        else:\n",
    "                            imarr = imarray[crop_slice]\n",
    "                            h,w,_ = imarr.shape\n",
    "                            if h < cropsize or w < cropsize:\n",
    "                                crop_corner_images(im, (j,i), size, marker_color,imname)\n",
    "                            else:\n",
    "                                mark_bounding_boxes(imarray[crop_slice],marker_color, imname)\n",
    "\n",
    "                        "
   ]
  }
 ],
 "metadata": {
  "kernelspec": {
   "display_name": "Python 3",
   "language": "python",
   "name": "python3"
  },
  "language_info": {
   "codemirror_mode": {
    "name": "ipython",
    "version": 3
   },
   "file_extension": ".py",
   "mimetype": "text/x-python",
   "name": "python",
   "nbconvert_exporter": "python",
   "pygments_lexer": "ipython3",
   "version": "3.9.1"
  }
 },
 "nbformat": 4,
 "nbformat_minor": 5
}
