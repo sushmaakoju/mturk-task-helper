{
 "cells": [
  {
   "cell_type": "code",
   "execution_count": 2,
   "id": "atmospheric-replacement",
   "metadata": {},
   "outputs": [],
   "source": [
    "import import_ipynb\n",
    "generic = lambda x: ast.literal_eval(x)\n",
    "from ast import literal_eval\n",
    "import numpy as np"
   ]
  },
  {
   "cell_type": "code",
   "execution_count": 3,
   "id": "subjective-authentication",
   "metadata": {},
   "outputs": [],
   "source": [
    "def stringToList(string):\n",
    "    # input format : \"[42, 42, 42]\" , note the spaces after the commas, in this case I have a list of integers\n",
    "    string = string[1:len(string)-1]\n",
    "    if len(string) != 0: \n",
    "        tempList = string.split(\", \")\n",
    "        #print(tempList)\n",
    "        tlist = [t.replace(\"'\",\"\").replace(\"[\",\"\").replace(\"]\",\"\") for t in tempList]\n",
    "        #print(tlist)\n",
    "        newList = list(map(lambda x: [int(y.replace(\"'\",\"\").replace(\"[\",\"\").replace(\"]\",\"\")) for y in x.split(\",\")], tempList))\n",
    "    else:\n",
    "        newList = []\n",
    "    return(newList)"
   ]
  },
  {
   "cell_type": "code",
   "execution_count": 4,
   "id": "representative-parent",
   "metadata": {},
   "outputs": [],
   "source": [
    "def stringlistToList(string):\n",
    "    string = string[0:len(string)]\n",
    "    if len(string) != 0: \n",
    "        tempList = string.split(\", \")\n",
    "    return tempList"
   ]
  }
 ],
 "metadata": {
  "kernelspec": {
   "display_name": "Python 3",
   "language": "python",
   "name": "python3"
  },
  "language_info": {
   "codemirror_mode": {
    "name": "ipython",
    "version": 3
   },
   "file_extension": ".py",
   "mimetype": "text/x-python",
   "name": "python",
   "nbconvert_exporter": "python",
   "pygments_lexer": "ipython3",
   "version": "3.9.1"
  }
 },
 "nbformat": 4,
 "nbformat_minor": 5
}
