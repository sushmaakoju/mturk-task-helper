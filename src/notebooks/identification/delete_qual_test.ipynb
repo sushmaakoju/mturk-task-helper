{
 "cells": [
  {
   "cell_type": "code",
   "execution_count": 1,
   "id": "conceptual-moral",
   "metadata": {},
   "outputs": [],
   "source": [
    "import boto3"
   ]
  },
  {
   "cell_type": "code",
   "execution_count": 2,
   "id": "solved-badge",
   "metadata": {},
   "outputs": [],
   "source": [
    "region_name = 'us-east-1'\n",
    "\n",
    "endpoint_url = 'https://mturk-requester-sandbox.us-east-1.amazonaws.com'\n",
    "#prod_url = \"https://mturk-requester.us-east-1.amazonaws.com\"\n",
    "client = boto3.client(\n",
    "    'mturk',\n",
    "    endpoint_url=endpoint_url,\n",
    "    region_name=region_name,\n",
    ")"
   ]
  },
  {
   "cell_type": "code",
   "execution_count": 18,
   "id": "opening-washer",
   "metadata": {},
   "outputs": [
    {
     "name": "stdout",
     "output_type": "stream",
     "text": [
      "10000.00\n"
     ]
    }
   ],
   "source": [
    "# This will return $10,000.00 in the MTurk Developer Sandbox\n",
    "print(client.get_account_balance()['AvailableBalance'])"
   ]
  },
  {
   "cell_type": "markdown",
   "id": "provincial-heaven",
   "metadata": {},
   "source": [
    "### List qualifications types"
   ]
  },
  {
   "cell_type": "code",
   "execution_count": 7,
   "id": "selected-connection",
   "metadata": {},
   "outputs": [],
   "source": [
    "qualification_types = client.list_qualification_types(MustBeRequestable=True,MustBeOwnedByCaller=True)['QualificationTypes']"
   ]
  },
  {
   "cell_type": "markdown",
   "id": "imposed-football",
   "metadata": {},
   "source": [
    "### List HITs for Qualification Type"
   ]
  },
  {
   "cell_type": "code",
   "execution_count": 15,
   "id": "deluxe-yeast",
   "metadata": {},
   "outputs": [
    {
     "data": {
      "text/plain": [
       "{'NumResults': 0,\n",
       " 'HITs': [],\n",
       " 'ResponseMetadata': {'RequestId': '7a02cc36-61cb-476d-aba0-39a4406ee0b3',\n",
       "  'HTTPStatusCode': 200,\n",
       "  'HTTPHeaders': {'x-amzn-requestid': '7a02cc36-61cb-476d-aba0-39a4406ee0b3',\n",
       "   'content-type': 'application/x-amz-json-1.1',\n",
       "   'content-length': '26',\n",
       "   'date': 'Fri, 12 Mar 2021 22:25:59 GMT'},\n",
       "  'RetryAttempts': 0}}"
      ]
     },
     "execution_count": 15,
     "metadata": {},
     "output_type": "execute_result"
    }
   ],
   "source": [
    "client.list_hits_for_qualification_type(\n",
    "    QualificationTypeId='33CI7FQ96GPR7ANGSCQJ9MK5FVL7OL',\n",
    ")"
   ]
  },
  {
   "cell_type": "markdown",
   "id": "floral-freedom",
   "metadata": {},
   "source": [
    "### Delete each of qualification type"
   ]
  },
  {
   "cell_type": "code",
   "execution_count": 17,
   "id": "quality-convenience",
   "metadata": {},
   "outputs": [
    {
     "name": "stdout",
     "output_type": "stream",
     "text": [
      "31MA9OBRUQ0JATJWGQ1433GVQCVPR3\n",
      "33CI7FQ96GPR7ANGSCQJ9MK5FVL7OL\n",
      "{'ResponseMetadata': {'RequestId': 'dfbff397-df71-469a-b8b9-9932a6f02b9d', 'HTTPStatusCode': 200, 'HTTPHeaders': {'x-amzn-requestid': 'dfbff397-df71-469a-b8b9-9932a6f02b9d', 'content-type': 'application/x-amz-json-1.1', 'content-length': '2', 'date': 'Fri, 12 Mar 2021 22:26:31 GMT'}, 'RetryAttempts': 0}}\n"
     ]
    }
   ],
   "source": [
    "for q in qualification_types:\n",
    "    if q['QualificationTypeId']==\"31MA9OBRUQ0JATJWGQ1433GVQCVPR3\":\n",
    "        print(q['QualificationTypeId'])\n",
    "        hits = client.list_hits_for_qualification_type(QualificationTypeId=q['QualificationTypeId'],)\n",
    "        if len(hits) == 0:\n",
    "            response = client.delete_qualification_type(\n",
    "            QualificationTypeId=q['QualificationTypeId'], \n",
    "            )\n",
    "            print(response)\n",
    "    if q['QualificationTypeId']==\"33CI7FQ96GPR7ANGSCQJ9MK5FVL7OL\":\n",
    "        print(q['QualificationTypeId'])\n",
    "        hits = client.list_hits_for_qualification_type(QualificationTypeId=q['QualificationTypeId'],)\n",
    "        if len(hits['HITs']) == 0:\n",
    "            response = client.delete_qualification_type(\n",
    "            QualificationTypeId=q['QualificationTypeId'], \n",
    "            )\n",
    "            print(response)"
   ]
  },
  {
   "cell_type": "code",
   "execution_count": null,
   "id": "declared-institute",
   "metadata": {},
   "outputs": [],
   "source": []
  }
 ],
 "metadata": {
  "kernelspec": {
   "display_name": "Python 3",
   "language": "python",
   "name": "python3"
  },
  "language_info": {
   "codemirror_mode": {
    "name": "ipython",
    "version": 3
   },
   "file_extension": ".py",
   "mimetype": "text/x-python",
   "name": "python",
   "nbconvert_exporter": "python",
   "pygments_lexer": "ipython3",
   "version": "3.9.1"
  }
 },
 "nbformat": 4,
 "nbformat_minor": 5
}
