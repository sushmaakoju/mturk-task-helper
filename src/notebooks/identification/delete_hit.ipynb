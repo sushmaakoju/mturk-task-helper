{
 "cells": [
  {
   "cell_type": "code",
   "execution_count": 1,
   "id": "great-breakdown",
   "metadata": {},
   "outputs": [],
   "source": [
    "import boto3\n",
    "import datetime"
   ]
  },
  {
   "cell_type": "code",
   "execution_count": 2,
   "id": "renewable-polyester",
   "metadata": {},
   "outputs": [
    {
     "name": "stdout",
     "output_type": "stream",
     "text": [
      "10000.00\n"
     ]
    }
   ],
   "source": [
    "region_name = 'us-east-1'\n",
    "\n",
    "endpoint_url = 'https://mturk-requester-sandbox.us-east-1.amazonaws.com'\n",
    "#prod_url = \"https://mturk-requester.us-east-1.amazonaws.com\"\n",
    "client = boto3.client(\n",
    "    'mturk',\n",
    "    endpoint_url=endpoint_url,\n",
    "    region_name=region_name,\n",
    ")\n",
    "\n",
    "# This will return $10,000.00 in the MTurk Developer Sandbox\n",
    "print(client.get_account_balance()['AvailableBalance'])"
   ]
  },
  {
   "cell_type": "code",
   "execution_count": 14,
   "id": "current-detroit",
   "metadata": {},
   "outputs": [
    {
     "name": "stdout",
     "output_type": "stream",
     "text": [
      "10\n"
     ]
    }
   ],
   "source": [
    "hits = client.list_hits()['HITs']\n",
    "print(len(hits))"
   ]
  },
  {
   "cell_type": "code",
   "execution_count": null,
   "id": "union-trinidad",
   "metadata": {},
   "outputs": [],
   "source": [
    "hits[0]"
   ]
  },
  {
   "cell_type": "markdown",
   "id": "specific-loading",
   "metadata": {},
   "source": [
    "### Delete a Identification HIT task"
   ]
  },
  {
   "cell_type": "code",
   "execution_count": null,
   "id": "uniform-deputy",
   "metadata": {},
   "outputs": [],
   "source": [
    "for hit in hits:\n",
    "    if hit['Title'] == \"Mark center of bounding box of all vehicles in the images\":\n",
    "        response = client.get_hit(\n",
    "            HITId=hit['HITId']\n",
    "        )\n",
    "        print(response)\n",
    "        if response['HIT']['HITStatus'] == 'Assignable':\n",
    "            response = client.update_expiration_for_hit(\n",
    "                    HITId=hit['HITId'],\n",
    "                    ExpireAt=datetime.datetime(2015, 1, 1)\n",
    "                )   \n",
    "        try:\n",
    "            response = client.delete_hit(\n",
    "                HITId=hit['HITId']\n",
    "            )\n",
    "        except:\n",
    "            print('Not deleted')\n",
    "        else:\n",
    "            print(\"deleted\")\n",
    "\n",
    "        response = client.get_hit(\n",
    "            HITId=hit['HITId']\n",
    "        )\n",
    "        print(response['HIT']['HITStatus'])"
   ]
  },
  {
   "cell_type": "code",
   "execution_count": null,
   "id": "comprehensive-hearing",
   "metadata": {},
   "outputs": [],
   "source": [
    "for item in hits:\n",
    "    hit_id=item['HITId']\n",
    "    print('HITId:', hit_id)\n",
    "\n",
    "    # Get HIT status\n",
    "    status=client.get_hit(HITId=hit_id)['HIT']['HITStatus']\n",
    "    print('HITStatus:', status)"
   ]
  },
  {
   "cell_type": "markdown",
   "id": "academic-mining",
   "metadata": {},
   "source": [
    "### Delete the HIT task given a HIT id"
   ]
  },
  {
   "cell_type": "code",
   "execution_count": null,
   "id": "coordinated-attribute",
   "metadata": {},
   "outputs": [],
   "source": [
    "#already know the HITId ?\n",
    "\n",
    "HITId=\"enter the hit id\"\n",
    "response = client.get_hit(\n",
    "    HITId=HITId\n",
    ")\n",
    "print(response)\n",
    "if response['HIT']['HITStatus'] == 'Assignable':\n",
    "    response = client.update_expiration_for_hit(\n",
    "            HITId=HITId,\n",
    "            ExpireAt=datetime.datetime(2015, 1, 1)\n",
    "        )   \n",
    "try:\n",
    "    response = client.delete_hit(\n",
    "        HITId=HITId\n",
    "    )\n",
    "except:\n",
    "    print('Not deleted')\n",
    "else:\n",
    "    print(\"deleted\")\n",
    "\n",
    "response = client.get_hit(\n",
    "    HITId=HITId\n",
    ")\n",
    "print(response)"
   ]
  },
  {
   "cell_type": "code",
   "execution_count": null,
   "id": "square-answer",
   "metadata": {},
   "outputs": [],
   "source": []
  }
 ],
 "metadata": {
  "kernelspec": {
   "display_name": "Python 3",
   "language": "python",
   "name": "python3"
  },
  "language_info": {
   "codemirror_mode": {
    "name": "ipython",
    "version": 3
   },
   "file_extension": ".py",
   "mimetype": "text/x-python",
   "name": "python",
   "nbconvert_exporter": "python",
   "pygments_lexer": "ipython3",
   "version": "3.9.1"
  }
 },
 "nbformat": 4,
 "nbformat_minor": 5
}
