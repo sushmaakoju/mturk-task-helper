{
 "cells": [
  {
   "cell_type": "code",
   "execution_count": 1,
   "id": "premier-murder",
   "metadata": {},
   "outputs": [],
   "source": [
    "import boto3\n",
    "import datetime\n",
    "import json\n",
    "\n",
    "import os\n",
    "from pathlib import Path"
   ]
  },
  {
   "cell_type": "code",
   "execution_count": 2,
   "id": "desperate-nightlife",
   "metadata": {},
   "outputs": [],
   "source": [
    "def time_converter(o):\n",
    "    if isinstance(o, datetime.datetime):\n",
    "        return o.__str__()\n",
    "\n",
    "rootpath = Path(os.getcwd())\n",
    "assert os.path.exists(rootpath), \"Output path does not exists.\"\n"
   ]
  },
  {
   "cell_type": "code",
   "execution_count": 3,
   "id": "respiratory-philosophy",
   "metadata": {},
   "outputs": [],
   "source": [
    "\n",
    "output_path = os.path.join(rootpath, 'output')\n",
    "if not os.path.exists(output_path):\n",
    "    os.mkdir(output_path)\n",
    "qualification_test_path = os.path.join(output_path, 'qualification_tests')\n",
    "if not os.path.exists(qualification_test_path):\n",
    "    os.mkdir(qualification_test_path)\n",
    "if not os.path.exists(output_path):\n",
    "    os.mkdir(output_path)\n",
    "hits_path = os.path.join(output_path,'hits')\n",
    "if not os.path.exists(hits_path):\n",
    "    os.mkdir(hits_path)\n",
    "    \n",
    "layout_path = os.path.join(rootpath,\"layouts\" )\n",
    "assert os.path.exists(layout_path), \"Layouts path does not exists. Please check the directory exists.\"\n"
   ]
  },
  {
   "cell_type": "code",
   "execution_count": 4,
   "id": "composite-decline",
   "metadata": {},
   "outputs": [],
   "source": [
    "questions = open(os.path.join(layout_path,'questions.xml'), mode='r').read()\n",
    "answers = open(os.path.join(layout_path,'answer_key.xml'), mode='r').read()"
   ]
  },
  {
   "cell_type": "code",
   "execution_count": 5,
   "id": "indian-samuel",
   "metadata": {},
   "outputs": [
    {
     "name": "stdout",
     "output_type": "stream",
     "text": [
      "10000.00\n"
     ]
    }
   ],
   "source": [
    "assert questions and answers, \"Either Questions or Answers templates do not exist. Please check and try again!\"\n",
    "\n",
    "region_name = 'us-east-1'\n",
    "\n",
    "endpoint_url = 'https://mturk-requester-sandbox.us-east-1.amazonaws.com'\n",
    "#prod_url = \"https://mturk-requester.us-east-1.amazonaws.com\"\n",
    "\n",
    "client = boto3.client(\n",
    "    'mturk',\n",
    "    endpoint_url=endpoint_url,\n",
    "    region_name=region_name,\n",
    ")\n",
    "# This will return $10,000.00 in the MTurk Developer Sandbox\n",
    "print(client.get_account_balance()['AvailableBalance'])"
   ]
  },
  {
   "cell_type": "markdown",
   "id": "vertical-deputy",
   "metadata": {},
   "source": [
    "## Create a new Qualification Test"
   ]
  },
  {
   "cell_type": "code",
   "execution_count": 6,
   "id": "fifteen-facing",
   "metadata": {},
   "outputs": [
    {
     "name": "stdout",
     "output_type": "stream",
     "text": [
      "30M5Q3A44UT8HJ21UKYQ253WVTZ7KV\n"
     ]
    }
   ],
   "source": [
    "\n",
    "\n",
    "qual_response = client.create_qualification_type(\n",
    "                        Name='Vehicle Identification Qualification Test example 1',\n",
    "                        Keywords='qualification, identify vehicles',\n",
    "                        Description='qualification test for Vehicle identification',\n",
    "                        QualificationTypeStatus='Active',\n",
    "                        Test=questions,\n",
    "                        AnswerKey=answers,\n",
    "                        TestDurationInSeconds=600,\n",
    "                        RetryDelayInSeconds=86400,)\n",
    "print(qual_response['QualificationType']['QualificationTypeId'])\n",
    "qual_id = qual_response['QualificationType']['QualificationTypeId']\n",
    "#print(qual_response)\n",
    "\n",
    "assert qual_response and qual_id, \"Qualification creation error!\""
   ]
  },
  {
   "cell_type": "code",
   "execution_count": 7,
   "id": "proper-sleeve",
   "metadata": {},
   "outputs": [],
   "source": [
    "with open(os.path.join(qualification_test_path, str(qual_id)+\".json\"), 'w') as qualification_json_file:\n",
    "    json.dump(qual_response, qualification_json_file, default = time_converter)"
   ]
  },
  {
   "cell_type": "markdown",
   "id": "regional-pickup",
   "metadata": {},
   "source": [
    "## Update an existing Qualification Test "
   ]
  },
  {
   "cell_type": "code",
   "execution_count": 11,
   "id": "stretch-sessions",
   "metadata": {},
   "outputs": [
    {
     "name": "stdout",
     "output_type": "stream",
     "text": [
      "30M5Q3A44UT8HJ21UKYQ253WVTZ7KV\n"
     ]
    }
   ],
   "source": [
    "qualids = [qual_id]\n",
    "for qid in qualids:\n",
    "    response = client.update_qualification_type(\n",
    "        QualificationTypeId=qid,\n",
    "        Test=questions,\n",
    "        AnswerKey=answers,\n",
    "        TestDurationInSeconds=600,\n",
    "        RetryDelayInSeconds=86400,\n",
    "    )\n",
    "    print(response['QualificationType']['QualificationTypeId'])"
   ]
  },
  {
   "cell_type": "code",
   "execution_count": 12,
   "id": "joined-blend",
   "metadata": {},
   "outputs": [],
   "source": [
    "for qid in qualids:\n",
    "    with open(os.path.join(qualification_test_path, str(qual_id)+\".json\"), 'w') as qualification_json_file:\n",
    "        json.dump(response, qualification_json_file, default = time_converter)"
   ]
  },
  {
   "cell_type": "markdown",
   "id": "explicit-booking",
   "metadata": {},
   "source": [
    "## List Qualification Types"
   ]
  },
  {
   "cell_type": "code",
   "execution_count": 14,
   "id": "square-silly",
   "metadata": {},
   "outputs": [],
   "source": [
    "response = client.list_qualification_types(\n",
    "    MustBeRequestable=True,\n",
    "    MustBeOwnedByCaller=True,\n",
    ")"
   ]
  },
  {
   "cell_type": "code",
   "execution_count": 15,
   "id": "occupied-disposal",
   "metadata": {},
   "outputs": [
    {
     "data": {
      "text/plain": [
       "12"
      ]
     },
     "execution_count": 15,
     "metadata": {},
     "output_type": "execute_result"
    }
   ],
   "source": [
    "response['NumResults']"
   ]
  },
  {
   "cell_type": "markdown",
   "id": "hidden-istanbul",
   "metadata": {},
   "source": [
    "## Delete a apecific Qualification Type Id"
   ]
  },
  {
   "cell_type": "code",
   "execution_count": 17,
   "id": "waiting-single",
   "metadata": {},
   "outputs": [],
   "source": [
    "qualification_types = client.list_qualification_types(MustBeRequestable=True,MustBeOwnedByCaller=True)['QualificationTypes']"
   ]
  },
  {
   "cell_type": "code",
   "execution_count": 18,
   "id": "lasting-applicant",
   "metadata": {},
   "outputs": [
    {
     "name": "stdout",
     "output_type": "stream",
     "text": [
      "30M5Q3A44UT8HJ21UKYQ253WVTZ7KV\n",
      "30M5Q3A44UT8HJ21UKYQ253WVTZ7KV\n",
      "{'ResponseMetadata': {'RequestId': 'e5f32d94-da11-4a61-88e8-8263666e76e9', 'HTTPStatusCode': 200, 'HTTPHeaders': {'x-amzn-requestid': 'e5f32d94-da11-4a61-88e8-8263666e76e9', 'content-type': 'application/x-amz-json-1.1', 'content-length': '2', 'date': 'Tue, 18 May 2021 05:29:05 GMT'}, 'RetryAttempts': 0}}\n"
     ]
    }
   ],
   "source": [
    "for q in qualification_types:\n",
    "    if q['QualificationTypeId']==qual_id:\n",
    "        print(q['QualificationTypeId'])\n",
    "        hits = client.list_hits_for_qualification_type(QualificationTypeId=q['QualificationTypeId'],)\n",
    "        if len(hits) == 0:\n",
    "            response = client.delete_qualification_type(\n",
    "            QualificationTypeId=q['QualificationTypeId'], \n",
    "            )\n",
    "            print(response)\n",
    "    if q['QualificationTypeId']==qual_id:\n",
    "        print(q['QualificationTypeId'])\n",
    "        hits = client.list_hits_for_qualification_type(QualificationTypeId=q['QualificationTypeId'],)\n",
    "        if len(hits['HITs']) == 0:\n",
    "            response = client.delete_qualification_type(\n",
    "            QualificationTypeId=q['QualificationTypeId'], \n",
    "            )\n",
    "            print(response)"
   ]
  },
  {
   "cell_type": "code",
   "execution_count": null,
   "id": "recovered-counter",
   "metadata": {},
   "outputs": [],
   "source": []
  }
 ],
 "metadata": {
  "kernelspec": {
   "display_name": "Python 3",
   "language": "python",
   "name": "python3"
  },
  "language_info": {
   "codemirror_mode": {
    "name": "ipython",
    "version": 3
   },
   "file_extension": ".py",
   "mimetype": "text/x-python",
   "name": "python",
   "nbconvert_exporter": "python",
   "pygments_lexer": "ipython3",
   "version": "3.9.1"
  }
 },
 "nbformat": 4,
 "nbformat_minor": 5
}
