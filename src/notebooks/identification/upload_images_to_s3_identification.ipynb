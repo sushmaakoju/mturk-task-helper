{
 "cells": [
  {
   "cell_type": "markdown",
   "id": "worst-mississippi",
   "metadata": {},
   "source": [
    "### Upload images for Indetification task to AWS S3"
   ]
  },
  {
   "cell_type": "code",
   "execution_count": 2,
   "id": "signed-table",
   "metadata": {},
   "outputs": [
    {
     "name": "stdout",
     "output_type": "stream",
     "text": [
      "Pillow Version: 8.1.0\n"
     ]
    }
   ],
   "source": [
    "from PIL import Image,ImageDraw\n",
    "import json\n",
    "import numpy as np\n",
    "from matplotlib import pyplot as plt\n",
    "from math import floor\n",
    "Image.MAX_IMAGE_PIXELS = None\n",
    "import urllib.request, json\n",
    "import requests\n",
    "from io import BytesIO\n",
    "import os\n",
    "from urllib.parse import urlparse\n",
    "\n",
    "import logging\n",
    "import boto3\n",
    "from botocore.exceptions import ClientError\n",
    "\n",
    "# check Pillow version number\n",
    "import PIL\n",
    "print('Pillow Version:', PIL.__version__)\n",
    "import numpy as np\n",
    "import os\n",
    "from pathlib import Path\n",
    "import re\n",
    "import json\n",
    "# load and show an image with Pillow\n",
    "from PIL import Image\n",
    "Image.MAX_IMAGE_PIXELS = None\n",
    "import matplotlib.pyplot as plt"
   ]
  },
  {
   "cell_type": "markdown",
   "id": "verbal-lambda",
   "metadata": {},
   "source": [
    "### Upload each file to S3 to target bucket with folder which is the object name"
   ]
  },
  {
   "cell_type": "code",
   "execution_count": 3,
   "id": "twenty-turkey",
   "metadata": {},
   "outputs": [],
   "source": [
    "def upload_file(file_path:os.path, bucket, object_name=None):\n",
    "    \"\"\"Upload a file to an S3 bucket\n",
    "\n",
    "    :param file_name: File to upload\n",
    "    :param bucket: Bucket to upload to\n",
    "    :param object_name: S3 object name. If not specified then file_name is used\n",
    "    :return: True if file was uploaded, else False\n",
    "    \"\"\"\n",
    "    #print(\"S3 parameters validation\")\n",
    "    assert file_path or bucket or object_name, \"File name is empty\"\n",
    "    #print(file_path, bucket, object_name)\n",
    "\n",
    "\n",
    "    # If S3 object_name was not specified, use file_name\n",
    "    if object_name is None:\n",
    "        object_name = file_path\n",
    "\n",
    "    # Upload the file\n",
    "    this_response = None\n",
    "    s3 = boto3.resource('s3')\n",
    "\n",
    "\n",
    "    #print(\"Connect to S3 API\")\n",
    "    try:\n",
    "        with open(file_path, 'rb') as f:\n",
    "            this_response = s3.Bucket('mturk-s3-cg').put_object(Key=object_name, Body=f,ContentType='image/jpeg',ACL='public-read')\n",
    "        #print(\"Uploading to S3 is complete!\", this_response)\n",
    "    except ClientError as e:\n",
    "        logging.error(e)\n",
    "        return False\n",
    "    return True"
   ]
  },
  {
   "cell_type": "markdown",
   "id": "republican-optimum",
   "metadata": {},
   "source": [
    "### Get configuration file details and directory path"
   ]
  },
  {
   "cell_type": "code",
   "execution_count": 14,
   "id": "imposed-insider",
   "metadata": {},
   "outputs": [
    {
     "name": "stdout",
     "output_type": "stream",
     "text": [
      "File directory to upload is here C:\\Users\\exx\\Pictures\\selected_images\\300\n",
      "{'overlap': 0.2, 'tile_size': 400, 'class_thumbnail_sizes': {'bus': 171, 'van_rv': 127, 'small': 101, 'specialized': 111, 'truck': 223, 'trailer_large': 219, 'trailer_small': 101, 'unknown': 127}, 'marker_color': [200, 200, 200, 255], 'point_color': [255, 0, 0], 'bb_color': [255, 0, 0], 'bucketname': 'mturk-s3-cg', 'classify_images_folder': 'task2-images/LINZ/', 'bb_images_folder': 'task1-images/LINZ/', 's3_url': 'https://mturk-s3-cg.s3.amazonaws.com/'}\n",
      "Config file loaded. C:\\Users\\exx\\Documents\\lab\\code\\config\\config.json\n"
     ]
    }
   ],
   "source": [
    "path = Path(os.getcwd())\n",
    "#foldername = \"0001_0002\"\n",
    "#get new folder's storage entry folder, there on, folders likely similar ?\n",
    "filedirectory = os.path.join(r'C:\\Users\\exx\\Pictures\\selected_images\\300')\n",
    "if os.path.exists(filedirectory):\n",
    "    print(\"File directory to upload is here %s\"%str(filedirectory))\n",
    "else:\n",
    "    assert os.path.exists(filedirectory),\"Image files directory does not exist. Please check and give correct path. %s\"%str(filedirectory)\n",
    "folders = [os.path.join(filedirectory,name) for name in os.listdir(filedirectory)]\n",
    "#files = []\n",
    "#for d in images_directory:\n",
    "#    files.extend([d.joinpath(image) for image in os.listdir(d) ])\n",
    "\n",
    "results = dict()\n",
    "this_directory = None\n",
    "annotations_count = 0\n",
    "file_class_count = dict()\n",
    "#load json config\n",
    "config_file_path =os.path.join(path.parent.parent,\"config\", \"config.json\")\n",
    "if  os.path.exists(config_file_path):\n",
    "    with open(config_file_path, \"r\") as jsonfile:\n",
    "        config = json.load(jsonfile)\n",
    "        print(config)\n",
    "        assert config, \"Config JSON has errors or is empty.\"\n",
    "\n",
    "bucketname = config[\"bucketname\"]\n",
    "task2_folder = \"task2/selwyn/smallbatch/\"\n",
    "s3_url = config[\"s3_url\"]\n",
    "print(\"Config file loaded. %s\"%str(config_file_path))"
   ]
  },
  {
   "cell_type": "code",
   "execution_count": 15,
   "id": "immediate-instrumentation",
   "metadata": {},
   "outputs": [
    {
     "data": {
      "text/plain": [
       "2"
      ]
     },
     "execution_count": 15,
     "metadata": {},
     "output_type": "execute_result"
    }
   ],
   "source": [
    "len(folders)"
   ]
  },
  {
   "cell_type": "markdown",
   "id": "voluntary-electronics",
   "metadata": {},
   "source": [
    "### Upload each file to S3 "
   ]
  },
  {
   "cell_type": "code",
   "execution_count": 17,
   "id": "dedicated-director",
   "metadata": {},
   "outputs": [
    {
     "name": "stdout",
     "output_type": "stream",
     "text": [
      "https://mturk-s3-cg.s3.amazonaws.com/ C:\\Users\\exx\\Pictures\\selected_images\\300\\0001_0001\n",
      "https://mturk-s3-cg.s3.amazonaws.com/ C:\\Users\\exx\\Pictures\\selected_images\\300\\0001_0002\n"
     ]
    }
   ],
   "source": [
    "count = 0\n",
    "for folder in folders:\n",
    "    files = os.listdir(folder)\n",
    "    for f in files:\n",
    "        ext = os.path.splitext(f)[1]\n",
    "        #we want only default content types that are defined for MTurk templates. Allowed ContentTypes by S3 are: https://s3browser.com/features-content-mime-types-editor.aspx \n",
    "        # allowed content MIME types by HTML <img> tags are https://www.iana.org/assignments/media-types/media-types.xhtml#image\n",
    "        # but those allowed by MTurk HTML is supported by <img> tag but are re-drawn, painted on browser canvas 2d by MTurk crowd HTML react elements. They are also limited by size < 3mb.\n",
    "        # smaller images are faster over any network so far they are <2000 pixels size i.e. 500*500 size and we want aspect ratio and resolution preserved when generating subimages. \n",
    "        # Otherwise the images take longer to load on slow internet per tests on Cross Browser Lambda Test.\n",
    "        if ext in [\".png\", \".PNG\", \".JPEG\", \".jpg\", \".jpeg\"]:\n",
    "            object_name = task2_folder+os.path.basename(folder)+\"/\"+os.path.basename(f)\n",
    "            filename = os.path.join(folder, f)\n",
    "            if upload_file(filename, bucketname, object_name):\n",
    "                count += 1\n",
    "    print(s3_url, folder)"
   ]
  },
  {
   "cell_type": "code",
   "execution_count": 18,
   "id": "thrown-mobility",
   "metadata": {},
   "outputs": [
    {
     "data": {
      "text/plain": [
       "137"
      ]
     },
     "execution_count": 18,
     "metadata": {},
     "output_type": "execute_result"
    }
   ],
   "source": [
    "count"
   ]
  },
  {
   "cell_type": "code",
   "execution_count": null,
   "id": "cooked-cathedral",
   "metadata": {},
   "outputs": [],
   "source": []
  }
 ],
 "metadata": {
  "kernelspec": {
   "display_name": "Python 3",
   "language": "python",
   "name": "python3"
  },
  "language_info": {
   "codemirror_mode": {
    "name": "ipython",
    "version": 3
   },
   "file_extension": ".py",
   "mimetype": "text/x-python",
   "name": "python",
   "nbconvert_exporter": "python",
   "pygments_lexer": "ipython3",
   "version": "3.9.1"
  }
 },
 "nbformat": 4,
 "nbformat_minor": 5
}
