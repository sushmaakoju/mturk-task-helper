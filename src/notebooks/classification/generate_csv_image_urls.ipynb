{
 "cells": [
  {
   "cell_type": "code",
   "execution_count": 8,
   "metadata": {},
   "outputs": [],
   "source": [
    "import os\n",
    "import sys\n",
    "from pathlib import Path\n",
    "from datetime import datetime\n",
    "\n",
    "import boto3\n",
    "from botocore.exceptions import ClientError\n",
    "\n",
    "import json\n",
    "import math\n",
    "\n",
    "import pandas as pd\n",
    "\n",
    "config = []\n",
    "DEFAULT_FILENAME = \"image_urls.csv\"\n",
    "path = Path(os.getcwd())"
   ]
  },
  {
   "cell_type": "code",
   "execution_count": 2,
   "metadata": {},
   "outputs": [
    {
     "name": "stdout",
     "output_type": "stream",
     "text": [
      "{'overlap': 0.2, 'tile_size': 400, 'class_thumbnail_sizes': {'bus': 171, 'van_rv': 127, 'small': 101, 'specialized': 111, 'truck': 223, 'trailer_large': 219, 'trailer_small': 101, 'unknown': 127}, 'marker_color': [200, 200, 200, 255], 'point_color': [255, 0, 0], 'bb_color': [255, 0, 0], 'bucketname': 'mturk-s3-cg', 'classify_images_folder': 'task2-images/LINZ/', 'bb_images_folder': 'task1-images/LINZ/', 's3_url': 'https://mturk-s3-cg.s3.amazonaws.com/'}\n"
     ]
    }
   ],
   "source": [
    "#load json config\n",
    "config_file_path = os.path.join(path.parent.parent,\"config\", \"config.json\")\n",
    "if os.path.exists(config_file_path) :\n",
    "    with open(config_file_path, \"r\") as jsonfile:\n",
    "        config = json.load(jsonfile)\n",
    "        print(config)\n",
    "        assert config, \"Config JSON has errors or is empty.\""
   ]
  },
  {
   "cell_type": "code",
   "execution_count": 3,
   "metadata": {},
   "outputs": [],
   "source": [
    "class_thumbnail_sizes = config[\"class_thumbnail_sizes\"]\n",
    "marker_color = tuple(config[\"marker_color\"])\n",
    "point_color = tuple(config[\"point_color\"])\n",
    "bb_color = config[\"bb_color\"]\n",
    "tile_size = config[\"tile_size\"]\n",
    "overlap = config[\"overlap\"]\n",
    "stride = int(tile_size * (1-overlap))\n",
    "bucketname = config[\"bucketname\"]\n",
    "classify_images_folder = config[\"classify_images_folder\"]\n",
    "s3_url = config[\"s3_url\"]"
   ]
  },
  {
   "cell_type": "code",
   "execution_count": 4,
   "metadata": {},
   "outputs": [],
   "source": [
    "def get_all_objects(bucketname: str):\n",
    "    \"\"\"Get all objects from s3. This method assumes AWS S3 configuration has been successful and looks for a folder \".aws\"\n",
    "\n",
    "    Args:\n",
    "        bucketname (str): Enter the bucket name you want to lookup\n",
    "    \"\"\"\n",
    "    s3r = boto3.resource('s3')\n",
    "    bucket = s3r.Bucket('mturk-s3-cg')\n",
    "    fileslist = list(bucket.objects.all())\n",
    "    return fileslist\n",
    "\n",
    "def filter_objects(bucketname:str,fileextension:str, folderpath:str):\n",
    "    \"\"\"Filter a bucket and look for a specific folder path. This method assumes AWS S3 configuration has been successful and looks for a folder \".aws\"\n",
    "\n",
    "    Args:\n",
    "        bucketname (str): Bucketname to look for in S3\n",
    "        fileextension (str): file extension to filter for\n",
    "        folderpath (str): folderpath to retrieve all file objects\n",
    "\n",
    "    Returns:\n",
    "        [type]: [description]\n",
    "    \"\"\"\n",
    "    if fileextension == \"\":\n",
    "        fileextension = \".png\"\n",
    "    files_in_bucket = get_all_objects(bucketname)\n",
    "    fileslist = [s3_url+f.key for f in files_in_bucket if folderpath in f.key and \".png\" in f.key and \"task2-images/LINZ/mar10/\" not in f.key and \"task2-images/LINZ/examples/\" not in f.key]\n",
    "    print(\"Number of image urls in folder : %s with %s is %d.\"%(bucketname+\"/\"+folderpath, fileextension, len(fileslist)))\n",
    "    return fileslist"
   ]
  },
  {
   "cell_type": "code",
   "execution_count": 5,
   "metadata": {},
   "outputs": [],
   "source": [
    "def generate_images_urls(num_columns=20, fileslist=[], csvfilename=DEFAULT_FILENAME):\n",
    "    \"\"\"Generate Image urls csv file dependeing on length of each column.\n",
    "\n",
    "    Args:\n",
    "        num_columns (int, optional): [description]. Defaults to 20.\n",
    "        fileslist (list, optional): [description]. Defaults to [].\n",
    "        csvfilename ([type], optional): [description]. Defaults to DEFAULT_FILENAME.\n",
    "    \"\"\"\n",
    "    assert num_columns > 0, \"Cannot generate image urls for ZERO columns.\"\n",
    "    if os.path.exists(os.path.join(os.getcwd(),csvfilename)):\n",
    "        print(\"The file name %s already exists. The file will be renamed by this method.\"%csvfilename)\n",
    "\n",
    "    #duplicate filename ? rename it.\n",
    "    if os.path.exists(os.path.join(os.getcwd(),csvfilename)):\n",
    "        filename, ext = os.path.splitext(csvfilename)\n",
    "        csvfilename = filename+datetime.now().strftime('%Y%m%d')+ext\n",
    "    \n",
    "    #How many image urls in each column ?\n",
    "    columnlength = int(len(fileslist)/num_columns)\n",
    "    hitimages = {}\n",
    "    count = 1\n",
    "    adjusted_column_length = 0\n",
    "\n",
    "    #generate image urls and adjust the few last remaining leftout imageurls to same length for csv\n",
    "    for i in range(0,len(fileslist),columnlength):\n",
    "        #print(len(fileslist[i:i+columnlength]),\"image\"+str(count)+\"_url\")\n",
    "        hitimages[\"image\"+str(count)+\"_url\"] = fileslist[i:i+columnlength]\n",
    "        k = \"image\"+str(count)+\"_url\"\n",
    "        if len(hitimages[k]) < columnlength:\n",
    "            emptydata_for_csv = [\" \" for i in range(len(hitimages[k]), columnlength)]\n",
    "            hitimages[k].extend(emptydata_for_csv) #O(n) - usually for last column. total columnlength - actual number of image urls left after distributing in all previous columns.\n",
    "            print(\"Extended length is now %d for %s\"%(len(hitimages[k]), str(k)))\n",
    "            adjusted_column_length += len(emptydata_for_csv)\n",
    "        count += 1\n",
    "\n",
    "    assert len(fileslist)+adjusted_column_length == (count-1)*columnlength, \"Incorrect length. Please check.\"\n",
    "\n",
    "    #convert to csv and save\n",
    "    result = pd.DataFrame.from_dict(hitimages)\n",
    "    result.to_csv(os.path.join(os.getcwd(),csvfilename), index=False)\n",
    "    assert os.path.exists(os.path.join(os.getcwd(),csvfilename)), \"Unable to create CSV file. Please check and try again.\"\n",
    "    print(\"******************************************************************************************\")\n",
    "    print(\"Image urls are saved to csv file : %s\" %(os.path.join(os.getcwd(),csvfilename)))"
   ]
  },
  {
   "cell_type": "code",
   "execution_count": 10,
   "metadata": {},
   "outputs": [],
   "source": [
    "def start(bucketname: str, folderpath:str, fileextension=\".png\", num_columns=20, csvfilename=DEFAULT_FILENAME):\n",
    "    \"\"\"Given an S3 bucket name, bucket's folderpath, fileextension to filter, we filter and get files (that are keys of objects with path).\n",
    "        Create a csv file from the urls. This ensures only the available, valid, available uploaded files to S3. \n",
    "\n",
    "    Args:\n",
    "        bucketname (str): bucketname you want to look up in\n",
    "        folderpath (str): folder path within the bucketname to look for\n",
    "        fileextension (str, optional): File extension to filter . Defaults to \".png\".\n",
    "        num_columns (int, optional): This is delimited by number of images in a single HIT. Defaults to 20.\n",
    "        csvfilename ([type], optional): target csv file to save all urls (since we use it for bulk HIT creation on MTurk). Defaults to DEFAULT_FILENAME.\n",
    "    \"\"\"\n",
    "    filtered_files_list = filter_objects(bucketname, fileextension, folderpath)\n",
    "    generate_images_urls(num_columns,filtered_files_list,csvfilename )\n"
   ]
  },
  {
   "cell_type": "code",
   "execution_count": 12,
   "metadata": {},
   "outputs": [
    {
     "name": "stdout",
     "output_type": "stream",
     "text": [
      "Number of image urls in folder : mturk-s3-cg/task1/batch100/ with .png is 212.\n",
      "Extended length is now 8 for image27_url\n",
      "******************************************************************************************\n",
      "Image urls are saved to csv file : C:\\Users\\exx\\Documents\\lab\\code\\classification\\notebooks\\selwyn_batch_100_image_urls.csv\n"
     ]
    }
   ],
   "source": [
    "# Call start method. There is a config file to edit and select more preferences\n",
    "start(bucketname,\"task1/batch100/\", \".png\", 25,  \"selwyn_batch_100_image_urls.csv\")"
   ]
  },
  {
   "cell_type": "code",
   "execution_count": null,
   "metadata": {},
   "outputs": [],
   "source": []
  }
 ],
 "metadata": {
  "kernelspec": {
   "display_name": "Python 3",
   "language": "python",
   "name": "python3"
  },
  "language_info": {
   "codemirror_mode": {
    "name": "ipython",
    "version": 3
   },
   "file_extension": ".py",
   "mimetype": "text/x-python",
   "name": "python",
   "nbconvert_exporter": "python",
   "pygments_lexer": "ipython3",
   "version": "3.8.3"
  }
 },
 "nbformat": 4,
 "nbformat_minor": 5
}
