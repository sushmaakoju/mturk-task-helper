{
 "cells": [
  {
   "cell_type": "code",
   "execution_count": 1,
   "metadata": {},
   "outputs": [],
   "source": [
    "import boto3\n",
    "import datetime\n",
    "import json\n",
    "\n",
    "import os\n",
    "from pathlib import Path\n",
    "import datetime\n",
    "import uuid\n",
    "import pandas as pd"
   ]
  },
  {
   "cell_type": "markdown",
   "metadata": {},
   "source": [
    "# This notebook is an example to create HIT tasks for batch of image urls each HIT containing 20 images. \n",
    "# The csv file required is already creation using \"generate_csv_image_urls\" notebook.\n",
    "\n",
    "## Guidelines to run this notebook\n",
    "***\n",
    "1. This file assumes you have downloaded the entire code folder from <a href=\"https://drive.google.com/drive/folders/1O8HrV5hgWwTM5dNJzhEzOaQddZSZThp5?usp=sharing\" target=\"_blank\"> this google drive folder</a>. \n",
    "\n",
    "2. This files assumes LINZ dataset in folder above 'code' folder. So please make sure to download the LINZ datatset before proceeding to run this notebook.<a href=\"https://drive.google.com/drive/u/0/folders/1SetuO2jiS2sEx105AjiRFYyJsKk9IpGV\" target=\"_blank\"> this google drive folder.</a>.\n",
    "\n",
    "3. This notebook demonstrates for Sandbox requester account and creating  a batch of HITs for a given image_urls file. The layout is created already on MTurk. MTurk provides an option to upload a csv file. However, we are creating a batch from script."
   ]
  },
  {
   "cell_type": "code",
   "execution_count": 2,
   "metadata": {},
   "outputs": [],
   "source": [
    "def time_converter(o):\n",
    "    if isinstance(o, datetime.datetime):\n",
    "        return o.__str__()\n",
    "\n",
    "rootpath = Path(os.getcwd())\n",
    "assert os.path.exists(rootpath), \"Output path does not exists.\"\n"
   ]
  },
  {
   "cell_type": "code",
   "execution_count": 3,
   "metadata": {},
   "outputs": [],
   "source": [
    "output_path = os.path.join(rootpath, 'output')\n",
    "if not os.path.exists(output_path):\n",
    "    os.mkdir(output_path)\n",
    "qualification_test_path = os.path.join(output_path, 'qualification_tests')\n",
    "if not os.path.exists(qualification_test_path):\n",
    "    os.mkdir(qualification_test_path)\n",
    "if not os.path.exists(output_path):\n",
    "    os.mkdir(output_path)\n",
    "hits_path = os.path.join(output_path,'hits')\n",
    "if not os.path.exists(hits_path):\n",
    "    os.mkdir(hits_path)\n"
   ]
  },
  {
   "cell_type": "code",
   "execution_count": 4,
   "metadata": {},
   "outputs": [
    {
     "data": {
      "text/plain": [
       "'C:\\\\Users\\\\nerdybug\\\\Documents\\\\mturk-task-helper\\\\layouts'"
      ]
     },
     "execution_count": 4,
     "metadata": {},
     "output_type": "execute_result"
    }
   ],
   "source": [
    "layout_path = os.path.join(rootpath.parent.parent.parent,\"layouts\" )\n",
    "assert os.path.exists(layout_path), \"Layouts path does not exists. Please check the directory exists.\"\n",
    "layout_path"
   ]
  },
  {
   "cell_type": "markdown",
   "metadata": {},
   "source": [
    "## Load questions and answers key for classification task's qualification test."
   ]
  },
  {
   "cell_type": "code",
   "execution_count": 5,
   "metadata": {},
   "outputs": [],
   "source": [
    "questions = open(os.path.join(layout_path,'questions.xml'), mode='r').read()\n",
    "answers = open(os.path.join(layout_path,'answer_key.xml'), mode='r').read()"
   ]
  },
  {
   "cell_type": "code",
   "execution_count": 6,
   "metadata": {},
   "outputs": [],
   "source": [
    "assert os.path.exists(layout_path), \"questions.xml does not exists. Please check the file exists.\"\n",
    "assert os.path.exists(layout_path), \"answers.xml path does not exists. Please check the file exists.\""
   ]
  },
  {
   "cell_type": "markdown",
   "metadata": {},
   "source": [
    "## Initialize mTurk client connection. Assumes you have configuration for AWS i.e. ~/.aws/ folder ."
   ]
  },
  {
   "cell_type": "code",
   "execution_count": 8,
   "metadata": {},
   "outputs": [
    {
     "name": "stdout",
     "output_type": "stream",
     "text": [
      "10000.00\n"
     ]
    }
   ],
   "source": [
    "assert questions and answers, \"Either Questions or Answers templates do not exist. Please check and try again!\"\n",
    "\n",
    "region_name = 'us-east-1'\n",
    "\n",
    "endpoint_url = 'https://mturk-requester-sandbox.us-east-1.amazonaws.com'\n",
    "#prod_url = \"https://mturk-requester.us-east-1.amazonaws.com\"\n",
    "\n",
    "client = boto3.client(\n",
    "    'mturk',\n",
    "    endpoint_url=endpoint_url,\n",
    "    region_name=region_name,\n",
    ")\n",
    "# This will return $10,000.00 in the MTurk Developer Sandbox\n",
    "print(client.get_account_balance()['AvailableBalance'])"
   ]
  },
  {
   "cell_type": "markdown",
   "metadata": {},
   "source": [
    "## Create Qualification Test. "
   ]
  },
  {
   "cell_type": "code",
   "execution_count": 10,
   "metadata": {},
   "outputs": [
    {
     "name": "stdout",
     "output_type": "stream",
     "text": [
      "31YLGOADI2O9MRA31FE8DUYQGAOBUI\n",
      "Vehicle Classification Qualification Test may 18: example\n"
     ]
    }
   ],
   "source": [
    "qual_response = client.create_qualification_type(\n",
    "                        Name='Vehicle Classification Qualification Test may 18: example',\n",
    "                        Keywords='test, qualification, vehicles, boto',\n",
    "                        Description='This is an qualification test',\n",
    "                        QualificationTypeStatus='Active',\n",
    "                        Test=questions,\n",
    "                        AnswerKey=answers,\n",
    "                        TestDurationInSeconds=400)\n",
    "print(qual_response['QualificationType']['QualificationTypeId'])\n",
    "qual_id = qual_response['QualificationType']['QualificationTypeId']\n",
    "print( qual_response['QualificationType']['Name'])\n",
    "\n",
    "assert qual_response and qual_id, \"Qualification creation error!\""
   ]
  },
  {
   "cell_type": "markdown",
   "metadata": {},
   "source": [
    "## Save Qualification Test to file."
   ]
  },
  {
   "cell_type": "code",
   "execution_count": 11,
   "metadata": {},
   "outputs": [],
   "source": [
    "with open(os.path.join(qualification_test_path, str(qual_id)+\".json\"), 'w') as qualification_json_file:\n",
    "    json.dump(qual_response, qualification_json_file, default = time_converter)"
   ]
  },
  {
   "cell_type": "markdown",
   "metadata": {},
   "source": [
    "## Given HIT Layout ID already created on MTurk requester website, and a Qualification test we already created, now we create a HIT and batch."
   ]
  },
  {
   "cell_type": "code",
   "execution_count": 12,
   "metadata": {},
   "outputs": [],
   "source": [
    "#set HIT task parameters\n",
    "Reward = \"2.5\"\n",
    "MaxAssignments = 3 #number of worker assignments per HIT\n",
    "LifetimeInSeconds = 432000 # 5days\n",
    "AssignmentDurationInSeconds = 1200 #10 minutes + 10mins grace period \n",
    "HITLayoutId= \"375TY3MH02JRVLT08BQ9C9L58V0JK3\" #\n",
    "RequesterAnnotation='string'\n",
    "QualificationRequirements = [{'QualificationTypeId': qual_id,\n",
    "                                   'Comparator': 'EqualTo',\n",
    "                                   'IntegerValues':[100]}]\n",
    "AutoApprovalDelayInSeconds = 259200\n",
    "Title='Classify each veichle to defined vehicle classes in the images'\n",
    "Description='This HIT task requires a qualification.'\n",
    "Keywords='vehicles, classify, qualification, test'"
   ]
  },
  {
   "cell_type": "code",
   "execution_count": 13,
   "metadata": {},
   "outputs": [],
   "source": [
    "def save_batch(hits):\n",
    "    with open(os.path.join(hits_path, \"new_batch\"+\".json\"), 'w') as hit_json_file:\n",
    "         for hit in hits:\n",
    "            json.dump(hit, hit_json_file, default = time_converter)"
   ]
  },
  {
   "cell_type": "code",
   "execution_count": 14,
   "metadata": {},
   "outputs": [],
   "source": [
    "def create_hit(HITLayoutParameters):\n",
    "    hit = client.create_hit(\n",
    "        Reward=Reward,\n",
    "        LifetimeInSeconds=LifetimeInSeconds,\n",
    "        AssignmentDurationInSeconds=AssignmentDurationInSeconds,\n",
    "        MaxAssignments=MaxAssignments,\n",
    "        Title=Title,\n",
    "        Description=Description,\n",
    "        Keywords=Keywords,\n",
    "        AutoApprovalDelayInSeconds=AutoApprovalDelayInSeconds,\n",
    "        QualificationRequirements=QualificationRequirements,\n",
    "        #Question=hit_template,\n",
    "        HITLayoutId= HITLayoutId, #from HIT layout created but not published on Requester website\n",
    "        RequesterAnnotation=RequesterAnnotation,\n",
    "        HITLayoutParameters=HITLayoutParameters,\n",
    "        )\n",
    "    #print(hit)\n",
    "    assert hit and hit['HIT']['HITId'], \"HIT creation failed\"\n",
    "    return hit"
   ]
  },
  {
   "cell_type": "markdown",
   "metadata": {},
   "source": [
    "##  Load Image URLS csv file we created using generate_csv_image_urls notebook"
   ]
  },
  {
   "cell_type": "code",
   "execution_count": 15,
   "metadata": {},
   "outputs": [
    {
     "data": {
      "text/html": [
       "<div>\n",
       "<style scoped>\n",
       "    .dataframe tbody tr th:only-of-type {\n",
       "        vertical-align: middle;\n",
       "    }\n",
       "\n",
       "    .dataframe tbody tr th {\n",
       "        vertical-align: top;\n",
       "    }\n",
       "\n",
       "    .dataframe thead th {\n",
       "        text-align: right;\n",
       "    }\n",
       "</style>\n",
       "<table border=\"1\" class=\"dataframe\">\n",
       "  <thead>\n",
       "    <tr style=\"text-align: right;\">\n",
       "      <th></th>\n",
       "      <th>image1_url</th>\n",
       "      <th>image2_url</th>\n",
       "      <th>image3_url</th>\n",
       "      <th>image4_url</th>\n",
       "      <th>image5_url</th>\n",
       "      <th>image6_url</th>\n",
       "      <th>image7_url</th>\n",
       "      <th>image8_url</th>\n",
       "      <th>image9_url</th>\n",
       "      <th>image10_url</th>\n",
       "      <th>...</th>\n",
       "      <th>image16_url</th>\n",
       "      <th>image17_url</th>\n",
       "      <th>image18_url</th>\n",
       "      <th>image19_url</th>\n",
       "      <th>image20_url</th>\n",
       "      <th>image21_url</th>\n",
       "      <th>image22_url</th>\n",
       "      <th>image23_url</th>\n",
       "      <th>image24_url</th>\n",
       "      <th>image25_url</th>\n",
       "    </tr>\n",
       "  </thead>\n",
       "  <tbody>\n",
       "    <tr>\n",
       "      <th>0</th>\n",
       "      <td>https://mturk-s3-cg.s3.amazonaws.com/task1/bat...</td>\n",
       "      <td>https://mturk-s3-cg.s3.amazonaws.com/task1/bat...</td>\n",
       "      <td>https://mturk-s3-cg.s3.amazonaws.com/task1/bat...</td>\n",
       "      <td>https://mturk-s3-cg.s3.amazonaws.com/task1/bat...</td>\n",
       "      <td>https://mturk-s3-cg.s3.amazonaws.com/task1/bat...</td>\n",
       "      <td>https://mturk-s3-cg.s3.amazonaws.com/task1/bat...</td>\n",
       "      <td>https://mturk-s3-cg.s3.amazonaws.com/task1/bat...</td>\n",
       "      <td>https://mturk-s3-cg.s3.amazonaws.com/task1/bat...</td>\n",
       "      <td>https://mturk-s3-cg.s3.amazonaws.com/task1/bat...</td>\n",
       "      <td>https://mturk-s3-cg.s3.amazonaws.com/task1/bat...</td>\n",
       "      <td>...</td>\n",
       "      <td>https://mturk-s3-cg.s3.amazonaws.com/task1/bat...</td>\n",
       "      <td>https://mturk-s3-cg.s3.amazonaws.com/task1/bat...</td>\n",
       "      <td>https://mturk-s3-cg.s3.amazonaws.com/task1/bat...</td>\n",
       "      <td>https://mturk-s3-cg.s3.amazonaws.com/task1/bat...</td>\n",
       "      <td>https://mturk-s3-cg.s3.amazonaws.com/task1/bat...</td>\n",
       "      <td>https://mturk-s3-cg.s3.amazonaws.com/task1/bat...</td>\n",
       "      <td>https://mturk-s3-cg.s3.amazonaws.com/task1/bat...</td>\n",
       "      <td>https://mturk-s3-cg.s3.amazonaws.com/task1/bat...</td>\n",
       "      <td>https://mturk-s3-cg.s3.amazonaws.com/task1/bat...</td>\n",
       "      <td>https://mturk-s3-cg.s3.amazonaws.com/task1/bat...</td>\n",
       "    </tr>\n",
       "  </tbody>\n",
       "</table>\n",
       "<p>1 rows × 25 columns</p>\n",
       "</div>"
      ],
      "text/plain": [
       "                                          image1_url  \\\n",
       "0  https://mturk-s3-cg.s3.amazonaws.com/task1/bat...   \n",
       "\n",
       "                                          image2_url  \\\n",
       "0  https://mturk-s3-cg.s3.amazonaws.com/task1/bat...   \n",
       "\n",
       "                                          image3_url  \\\n",
       "0  https://mturk-s3-cg.s3.amazonaws.com/task1/bat...   \n",
       "\n",
       "                                          image4_url  \\\n",
       "0  https://mturk-s3-cg.s3.amazonaws.com/task1/bat...   \n",
       "\n",
       "                                          image5_url  \\\n",
       "0  https://mturk-s3-cg.s3.amazonaws.com/task1/bat...   \n",
       "\n",
       "                                          image6_url  \\\n",
       "0  https://mturk-s3-cg.s3.amazonaws.com/task1/bat...   \n",
       "\n",
       "                                          image7_url  \\\n",
       "0  https://mturk-s3-cg.s3.amazonaws.com/task1/bat...   \n",
       "\n",
       "                                          image8_url  \\\n",
       "0  https://mturk-s3-cg.s3.amazonaws.com/task1/bat...   \n",
       "\n",
       "                                          image9_url  \\\n",
       "0  https://mturk-s3-cg.s3.amazonaws.com/task1/bat...   \n",
       "\n",
       "                                         image10_url  ...  \\\n",
       "0  https://mturk-s3-cg.s3.amazonaws.com/task1/bat...  ...   \n",
       "\n",
       "                                         image16_url  \\\n",
       "0  https://mturk-s3-cg.s3.amazonaws.com/task1/bat...   \n",
       "\n",
       "                                         image17_url  \\\n",
       "0  https://mturk-s3-cg.s3.amazonaws.com/task1/bat...   \n",
       "\n",
       "                                         image18_url  \\\n",
       "0  https://mturk-s3-cg.s3.amazonaws.com/task1/bat...   \n",
       "\n",
       "                                         image19_url  \\\n",
       "0  https://mturk-s3-cg.s3.amazonaws.com/task1/bat...   \n",
       "\n",
       "                                         image20_url  \\\n",
       "0  https://mturk-s3-cg.s3.amazonaws.com/task1/bat...   \n",
       "\n",
       "                                         image21_url  \\\n",
       "0  https://mturk-s3-cg.s3.amazonaws.com/task1/bat...   \n",
       "\n",
       "                                         image22_url  \\\n",
       "0  https://mturk-s3-cg.s3.amazonaws.com/task1/bat...   \n",
       "\n",
       "                                         image23_url  \\\n",
       "0  https://mturk-s3-cg.s3.amazonaws.com/task1/bat...   \n",
       "\n",
       "                                         image24_url  \\\n",
       "0  https://mturk-s3-cg.s3.amazonaws.com/task1/bat...   \n",
       "\n",
       "                                         image25_url  \n",
       "0  https://mturk-s3-cg.s3.amazonaws.com/task1/bat...  \n",
       "\n",
       "[1 rows x 25 columns]"
      ]
     },
     "execution_count": 15,
     "metadata": {},
     "output_type": "execute_result"
    }
   ],
   "source": [
    "imageurl_df = pd.read_csv(os.path.join(rootpath.parent.parent,\"input_data\",'image_urls.csv'))\n",
    "assert imageurl_df, \"Input Image urls csv file do not exist. Please check and try again!\"\n",
    "imageurl_df"
   ]
  },
  {
   "cell_type": "markdown",
   "metadata": {},
   "source": [
    "## We need 25 image_url variables for a single HIT. We get all column names. However we may have column names > 25, so we create only for first 25 columns."
   ]
  },
  {
   "cell_type": "code",
   "execution_count": 16,
   "metadata": {},
   "outputs": [
    {
     "data": {
      "text/plain": [
       "['image1_url',\n",
       " 'image2_url',\n",
       " 'image3_url',\n",
       " 'image4_url',\n",
       " 'image5_url',\n",
       " 'image6_url',\n",
       " 'image7_url',\n",
       " 'image8_url',\n",
       " 'image9_url',\n",
       " 'image10_url',\n",
       " 'image11_url',\n",
       " 'image12_url',\n",
       " 'image13_url',\n",
       " 'image14_url',\n",
       " 'image15_url',\n",
       " 'image16_url',\n",
       " 'image17_url',\n",
       " 'image18_url',\n",
       " 'image19_url',\n",
       " 'image20_url',\n",
       " 'image21_url',\n",
       " 'image22_url',\n",
       " 'image23_url',\n",
       " 'image24_url',\n",
       " 'image25_url']"
      ]
     },
     "execution_count": 16,
     "metadata": {},
     "output_type": "execute_result"
    }
   ],
   "source": [
    "colnames = imageurl_df.columns.values.tolist()\n",
    "colnames"
   ]
  },
  {
   "cell_type": "markdown",
   "metadata": {},
   "source": [
    "## Now for each row in csv, create HITLayoutParameters  \n",
    "### `[{'Name': colname, \"Value\": row_dict[colname]} for colname in colnames[:20] ] ` \n",
    "### is of format  \n",
    "#### `[{'Name': image1_url, \"Value\": 'https://mturk-s3-cg.s3.amazonaws.com/task2-images/LINZ/0001_0001/0001_0001_2462-6635-small.png'},{'Name': image2_url, \"Value\": 'https://mturk-s3-cg.s3.amazonaws.com/task2-images/LINZ/0003_0002/0003_0002_120-10808-trailer_small.png'},{'Name': image3_url, \"Value\": 'https://mturk-s3-cg.s3.amazonaws.com/task2-images/LINZ/0004_0001/0004_0001_10899-12065-small.png'} ....{'Name': image20_url, \"Value\": 'https://mturk-s3-cg.s3.amazonaws.com/task2-images/LINZ/0008_0005/0008_0005_8688-7952-specialized.png'}]  `"
   ]
  },
  {
   "cell_type": "code",
   "execution_count": 17,
   "metadata": {},
   "outputs": [],
   "source": [
    "HITLayoutParameters = []\n",
    "hits = []\n",
    "for row_dict in imageurl_df.to_dict(orient='records'):\n",
    "    HITLayoutParameters = [{'Name': colname, \"Value\": row_dict[colname]} for colname in colnames[:25] ]\n",
    "    \n",
    "    #print(HITLayoutParameters)\n",
    "    result = create_hit(HITLayoutParameters)\n",
    "    assert result, \"HIT creation failed. Please check and try again.\"\n",
    "    hits.append(result)  \n",
    "    #print([{'Name': colname, \"value\": row_dict[colname]} for colname in colnames ])"
   ]
  },
  {
   "cell_type": "markdown",
   "metadata": {},
   "source": [
    "## A HIT response after successful creation of HIT looks as follows:"
   ]
  },
  {
   "cell_type": "code",
   "execution_count": 18,
   "metadata": {},
   "outputs": [
    {
     "data": {
      "text/plain": [
       "('Classify each veichle to defined vehicle classes in the images',\n",
       " '2021-05-18 00:59:30-04:00')"
      ]
     },
     "execution_count": 18,
     "metadata": {},
     "output_type": "execute_result"
    }
   ],
   "source": [
    "hits[0]['HIT']['Title'],time_converter(hits[0]['HIT']['CreationTime'])"
   ]
  },
  {
   "cell_type": "markdown",
   "metadata": {},
   "source": [
    "## List all HITs of the calling requester"
   ]
  },
  {
   "cell_type": "code",
   "execution_count": 19,
   "metadata": {},
   "outputs": [
    {
     "data": {
      "text/plain": [
       "'Classify each veichle to defined vehicle classes in the images'"
      ]
     },
     "execution_count": 19,
     "metadata": {},
     "output_type": "execute_result"
    }
   ],
   "source": [
    "hitlist = client.list_hits()['HITs']\n",
    "hitlist[0]['Title']"
   ]
  },
  {
   "cell_type": "markdown",
   "metadata": {},
   "source": [
    "## List all HITs for a given Qualificaion Type"
   ]
  },
  {
   "cell_type": "code",
   "execution_count": 20,
   "metadata": {},
   "outputs": [
    {
     "data": {
      "text/plain": [
       "'Vehicle Classification Qualification Test: example'"
      ]
     },
     "execution_count": 20,
     "metadata": {},
     "output_type": "execute_result"
    }
   ],
   "source": [
    "response = client.list_qualification_types(\n",
    "        MustBeRequestable=True,\n",
    "        MustBeOwnedByCaller=True,\n",
    "    )\n",
    "assert response and len(response['QualificationTypes']) > 0, \"There are no qualification tests.\"\n",
    "response['QualificationTypes'][1]['Name']"
   ]
  },
  {
   "cell_type": "code",
   "execution_count": 21,
   "metadata": {},
   "outputs": [],
   "source": [
    "response = client.list_hits_for_qualification_type(\n",
    "    QualificationTypeId=qual_id,\n",
    "    MaxResults=100\n",
    ")\n",
    "assert response and len(response['HITs']) > 0, \"There are no HIT tasks.\""
   ]
  },
  {
   "cell_type": "code",
   "execution_count": 22,
   "metadata": {},
   "outputs": [
    {
     "data": {
      "text/plain": [
       "'Classify each veichle to defined vehicle classes in the images'"
      ]
     },
     "execution_count": 22,
     "metadata": {},
     "output_type": "execute_result"
    }
   ],
   "source": [
    "response['HITs'][0]['Title']"
   ]
  },
  {
   "cell_type": "code",
   "execution_count": 23,
   "metadata": {},
   "outputs": [
    {
     "data": {
      "text/plain": [
       "1"
      ]
     },
     "execution_count": 23,
     "metadata": {},
     "output_type": "execute_result"
    }
   ],
   "source": [
    "len(response['HITs'])"
   ]
  },
  {
   "cell_type": "code",
   "execution_count": 24,
   "metadata": {},
   "outputs": [],
   "source": [
    "hit_id = hits[0]['HIT']['HITId']\n",
    "with open(os.path.join(hits_path, str(hit_id)+\".json\"), 'w') as hit_json_file:\n",
    "    json.dump(hits[0], hit_json_file, default = time_converter)"
   ]
  },
  {
   "cell_type": "code",
   "execution_count": 25,
   "metadata": {},
   "outputs": [
    {
     "name": "stdout",
     "output_type": "stream",
     "text": [
      "3XUY87HIWWWU5MNJSQVDOQ7SUTNMMI\n"
     ]
    }
   ],
   "source": [
    "hit = client.create_hit(\n",
    "        Reward='1.25',\n",
    "        LifetimeInSeconds=3600,\n",
    "        AssignmentDurationInSeconds=600,\n",
    "        MaxAssignments=3,\n",
    "        Title='Classify each veichle to defined vehicle classes in the images',\n",
    "        Description='A HIT that requires a qualification.',\n",
    "        Keywords='vehicles, classify, qualification, test',\n",
    "        AutoApprovalDelayInSeconds=0,\n",
    "        QualificationRequirements=[{'QualificationTypeId': qual_id,\n",
    "                                   'Comparator': 'EqualTo',\n",
    "                                   'IntegerValues':[100]}],\n",
    "        #Question=hit_template,\n",
    "        HITLayoutId= \"3PCCVH526IHZMHPEKU6K502VBAS7P7\", #from HIT layout created but not published on Requester website\n",
    "        RequesterAnnotation='string',\n",
    "        )\n",
    "print(hit['HIT']['HITId'])\n",
    "assert hit and hit['HIT']['HITId'], \"HIT creation failed\"\n",
    "hit_id = hit['HIT']['HITId']"
   ]
  },
  {
   "cell_type": "code",
   "execution_count": 26,
   "metadata": {},
   "outputs": [],
   "source": [
    "with open(os.path.join(hits_path, str(hit_id)+\".json\"), 'w') as hit_json_file:\n",
    "    json.dump(hit, hit_json_file, default = time_converter)"
   ]
  },
  {
   "cell_type": "markdown",
   "metadata": {},
   "source": [
    "## Delete some of HITs that are in assignable state for example demonstration."
   ]
  },
  {
   "cell_type": "code",
   "execution_count": 27,
   "metadata": {},
   "outputs": [
    {
     "name": "stdout",
     "output_type": "stream",
     "text": [
      "deleted\n",
      "Disposed\n"
     ]
    }
   ],
   "source": [
    "for hit in hits[0:]:\n",
    "    if hit['HIT']['HITStatus'] == 'Assignable':\n",
    "        response = client.update_expiration_for_hit(\n",
    "                HITId=hit['HIT']['HITId'],\n",
    "                ExpireAt=datetime.datetime(2015, 1, 1)\n",
    "            )   \n",
    "    try:\n",
    "        response = client.delete_hit(\n",
    "            HITId=hit['HIT']['HITId']\n",
    "        )\n",
    "    except:\n",
    "        print('Not deleted')\n",
    "    else:\n",
    "        print(\"deleted\")\n",
    "\n",
    "    response = client.get_hit(\n",
    "        HITId=hit['HIT']['HITId']\n",
    "    )\n",
    "    print(response['HIT']['HITStatus']) #should be \"Disposed\" after deletion."
   ]
  },
  {
   "cell_type": "markdown",
   "metadata": {},
   "source": [
    "## Deleting all HITs leaving out first 1 HITs for the given Qualification Test Type ID"
   ]
  },
  {
   "cell_type": "code",
   "execution_count": 29,
   "metadata": {},
   "outputs": [
    {
     "name": "stdout",
     "output_type": "stream",
     "text": [
      "31YLGOADI2O9MRA31FE8DUYQGAOBUI 31YLGOADI2O9MRA31FE8DUYQGAOBUI\n",
      "3XUY87HIWWWU5MNJSQVDOQ7SUTNMMI\n",
      "deleted\n",
      "Disposed\n"
     ]
    }
   ],
   "source": [
    "response = client.list_hits()\n",
    "\n",
    "if hitlist:\n",
    "    for hit in response['HITs'][:1]:\n",
    "        print(hit['QualificationRequirements'][0]['QualificationTypeId'] , qual_id)\n",
    "        if hit['HITStatus'] == 'Assignable' and hit['QualificationRequirements'][0]['QualificationTypeId'] == qual_id:\n",
    "            print(hit['HITId'])\n",
    "            response = client.update_expiration_for_hit(\n",
    "                    HITId=hit['HITId'],\n",
    "                    ExpireAt=datetime.datetime(2015, 1, 1)\n",
    "                )   \n",
    "        try:\n",
    "            response = client.delete_hit(\n",
    "                HITId=hit['HITId']\n",
    "            )\n",
    "        except:\n",
    "            print('Not deleted')\n",
    "        else:\n",
    "            print(\"deleted\")\n",
    "\n",
    "        response = client.get_hit(\n",
    "            HITId=hit['HITId']\n",
    "        )\n",
    "        print(response['HIT']['HITStatus'])"
   ]
  },
  {
   "cell_type": "code",
   "execution_count": null,
   "metadata": {},
   "outputs": [],
   "source": []
  }
 ],
 "metadata": {
  "kernelspec": {
   "display_name": "Python 3",
   "language": "python",
   "name": "python3"
  },
  "language_info": {
   "codemirror_mode": {
    "name": "ipython",
    "version": 3
   },
   "file_extension": ".py",
   "mimetype": "text/x-python",
   "name": "python",
   "nbconvert_exporter": "python",
   "pygments_lexer": "ipython3",
   "version": "3.8.3"
  }
 },
 "nbformat": 4,
 "nbformat_minor": 5
}
