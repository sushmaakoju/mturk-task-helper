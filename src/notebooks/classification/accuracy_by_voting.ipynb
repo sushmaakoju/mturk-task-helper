{
 "cells": [
  {
   "cell_type": "markdown",
   "id": "tutorial-framing",
   "metadata": {},
   "source": [
    "### This is implementation of algorithm for Mechanical Turk task. Voted Accuracy approach as suggested by Prof. Jessica Hodgins."
   ]
  },
  {
   "cell_type": "code",
   "execution_count": 1,
   "id": "opening-basis",
   "metadata": {},
   "outputs": [],
   "source": [
    "from __future__ import division\n",
    "import boto3\n",
    "import datetime\n",
    "import json\n",
    "import pandas as pd\n",
    "import os\n",
    "from pathlib import Path\n",
    "from sklearn.preprocessing import label_binarize\n",
    "from sklearn.metrics import confusion_matrix\n",
    "import matplotlib.pyplot as plt  "
   ]
  },
  {
   "cell_type": "code",
   "execution_count": 2,
   "id": "focal-pontiac",
   "metadata": {},
   "outputs": [],
   "source": [
    "from sklearn.preprocessing import label_binarize\n",
    "from sklearn.metrics import roc_curve, auc\n",
    "from itertools import cycle\n",
    "from sklearn.metrics import accuracy_score\n",
    "import numpy as np\n",
    "from numpy import interp\n",
    "from pycm import *\n",
    "from sklearn.metrics import log_loss\n",
    "from sklearn.metrics import balanced_accuracy_score\n",
    "from sklearn.metrics import multilabel_confusion_matrix"
   ]
  },
  {
   "cell_type": "code",
   "execution_count": 3,
   "id": "prostate-analysis",
   "metadata": {},
   "outputs": [],
   "source": [
    "from itertools import combinations\n",
    "import random\n",
    "from collections import Counter"
   ]
  },
  {
   "cell_type": "code",
   "execution_count": 4,
   "id": "everyday-liabilities",
   "metadata": {},
   "outputs": [],
   "source": [
    "def time_converter(o):\n",
    "    if isinstance(o, datetime.datetime):\n",
    "        return o.__str__()\n",
    "\n",
    "rootpath = os.path.join(r'C:\\Users\\nerdybug\\Documents\\mturk-task-helper')\n",
    "answers_path = os.path.join(rootpath,\"batch100_HITs\",\"answers\", \"1selwyn_answers_classification_task_layout2_3_batch100.csv\")\n",
    "results_path = os.path.join(rootpath,\"batch100_HITs\",\"all\",\"voting\")\n",
    "output_results = os.path.join(rootpath,\"batch100_HITs\",\"all\",\"voting\",\"results\")\n",
    "\n",
    "if not os.path.exists(output_results):\n",
    "    os.mkdir(output_results)"
   ]
  },
  {
   "cell_type": "code",
   "execution_count": null,
   "id": "anonymous-planning",
   "metadata": {},
   "outputs": [],
   "source": [
    "assert os.path.exists(rootpath) and os.path.exists(answers_path) and os.path.exists(results_path) and os.path.exists(output_results),\n",
    "        \"One of the aforementioned paths do not exist or incorrect. Please check before proceeding to next cell\""
   ]
  },
  {
   "cell_type": "code",
   "execution_count": 5,
   "id": "amino-blanket",
   "metadata": {},
   "outputs": [
    {
     "name": "stdout",
     "output_type": "stream",
     "text": [
      "178.50\n"
     ]
    }
   ],
   "source": [
    "\n",
    "region_name = 'us-east-1'\n",
    "\n",
    "endpoint_url = 'https://mturk-requester-sandbox.us-east-1.amazonaws.com'\n",
    "prod_url = \"https://mturk-requester.us-east-1.amazonaws.com\"\n",
    "\n",
    "client = boto3.client(\n",
    "    'mturk',\n",
    "    endpoint_url=prod_url,\n",
    "    region_name=region_name,\n",
    ")\n",
    "# This will return $10,000.00 in the MTurk Developer Sandbox\n",
    "print(client.get_account_balance()['AvailableBalance'])"
   ]
  },
  {
   "cell_type": "code",
   "execution_count": 6,
   "id": "institutional-cabinet",
   "metadata": {},
   "outputs": [
    {
     "data": {
      "text/plain": [
       "['all_results.csv', 'results']"
      ]
     },
     "execution_count": 6,
     "metadata": {},
     "output_type": "execute_result"
    }
   ],
   "source": [
    "files = os.listdir(os.path.join(results_path))\n",
    "files"
   ]
  },
  {
   "cell_type": "code",
   "execution_count": 7,
   "id": "communist-greenhouse",
   "metadata": {},
   "outputs": [],
   "source": [
    "def save_file(final_results:[dict],filename_with_ext):\n",
    "    result = pd.DataFrame.from_dict(final_results)\n",
    "    result.to_csv(os.path.join(os.getcwd(),filename_with_ext), index=False)"
   ]
  },
  {
   "cell_type": "code",
   "execution_count": 8,
   "id": "usual-miracle",
   "metadata": {},
   "outputs": [],
   "source": [
    "filename = 'all_results.csv'\n",
    "df = pd.read_csv(os.path.join(results_path, filename))"
   ]
  },
  {
   "cell_type": "code",
   "execution_count": 9,
   "id": "express-transmission",
   "metadata": {},
   "outputs": [
    {
     "data": {
      "text/plain": [
       "Index(['image_url', 'submitted', 'answer', 'score', 'WorkerId', 'HITId'], dtype='object')"
      ]
     },
     "execution_count": 9,
     "metadata": {},
     "output_type": "execute_result"
    }
   ],
   "source": [
    "df.columns"
   ]
  },
  {
   "cell_type": "markdown",
   "id": "cordless-liability",
   "metadata": {},
   "source": [
    "### All answers are labels submitted by workers merged with actual answers for comparison."
   ]
  },
  {
   "cell_type": "code",
   "execution_count": 10,
   "id": "meaningful-bulgaria",
   "metadata": {},
   "outputs": [],
   "source": [
    "all_answers = df[['HITId','WorkerId','image_url','submitted', 'answer', 'score']]"
   ]
  },
  {
   "cell_type": "code",
   "execution_count": 11,
   "id": "passive-cologne",
   "metadata": {},
   "outputs": [
    {
     "data": {
      "text/plain": [
       "Index(['HITId', 'WorkerId', 'image_url', 'submitted', 'answer', 'score'], dtype='object')"
      ]
     },
     "execution_count": 11,
     "metadata": {},
     "output_type": "execute_result"
    }
   ],
   "source": [
    "all_answers.columns"
   ]
  },
  {
   "cell_type": "markdown",
   "id": "working-navigation",
   "metadata": {},
   "source": [
    "### List out all unique workers in this set (which is all 3 batches from each of 3 layouts)"
   ]
  },
  {
   "cell_type": "code",
   "execution_count": 12,
   "id": "regulated-static",
   "metadata": {},
   "outputs": [
    {
     "name": "stdout",
     "output_type": "stream",
     "text": [
      "Number of unique workers 11\n"
     ]
    }
   ],
   "source": [
    "workers = list(all_answers.groupby(['WorkerId']).groups.keys())\n",
    "print(\"Number of unique workers\",len(workers))"
   ]
  },
  {
   "cell_type": "code",
   "execution_count": 13,
   "id": "double-position",
   "metadata": {},
   "outputs": [],
   "source": [
    "workerid = workers[0]"
   ]
  },
  {
   "cell_type": "code",
   "execution_count": 14,
   "id": "smooth-kenya",
   "metadata": {},
   "outputs": [
    {
     "data": {
      "text/plain": [
       "262    https://mturk-s3-cg.s3.amazonaws.com/task1/bat...\n",
       "263    https://mturk-s3-cg.s3.amazonaws.com/task1/bat...\n",
       "264    https://mturk-s3-cg.s3.amazonaws.com/task1/bat...\n",
       "265    https://mturk-s3-cg.s3.amazonaws.com/task1/bat...\n",
       "266    https://mturk-s3-cg.s3.amazonaws.com/task1/bat...\n",
       "267    https://mturk-s3-cg.s3.amazonaws.com/task1/bat...\n",
       "268    https://mturk-s3-cg.s3.amazonaws.com/task1/bat...\n",
       "269    https://mturk-s3-cg.s3.amazonaws.com/task1/bat...\n",
       "270    https://mturk-s3-cg.s3.amazonaws.com/task1/bat...\n",
       "271    https://mturk-s3-cg.s3.amazonaws.com/task1/bat...\n",
       "272    https://mturk-s3-cg.s3.amazonaws.com/task1/bat...\n",
       "273    https://mturk-s3-cg.s3.amazonaws.com/task1/bat...\n",
       "274    https://mturk-s3-cg.s3.amazonaws.com/task1/bat...\n",
       "275    https://mturk-s3-cg.s3.amazonaws.com/task1/bat...\n",
       "276    https://mturk-s3-cg.s3.amazonaws.com/task1/bat...\n",
       "277    https://mturk-s3-cg.s3.amazonaws.com/task1/bat...\n",
       "278    https://mturk-s3-cg.s3.amazonaws.com/task1/bat...\n",
       "279    https://mturk-s3-cg.s3.amazonaws.com/task1/bat...\n",
       "280    https://mturk-s3-cg.s3.amazonaws.com/task1/bat...\n",
       "281    https://mturk-s3-cg.s3.amazonaws.com/task1/bat...\n",
       "282    https://mturk-s3-cg.s3.amazonaws.com/task1/bat...\n",
       "283    https://mturk-s3-cg.s3.amazonaws.com/task1/bat...\n",
       "284    https://mturk-s3-cg.s3.amazonaws.com/task1/bat...\n",
       "285    https://mturk-s3-cg.s3.amazonaws.com/task1/bat...\n",
       "286    https://mturk-s3-cg.s3.amazonaws.com/task1/bat...\n",
       "Name: image_url, dtype: object"
      ]
     },
     "execution_count": 14,
     "metadata": {},
     "output_type": "execute_result"
    }
   ],
   "source": [
    "all_answers.loc[all_answers['WorkerId'] == workerid]['image_url']"
   ]
  },
  {
   "cell_type": "markdown",
   "id": "bigger-premiere",
   "metadata": {},
   "source": [
    "### Ground truth i.e the answers of each of vehicle images for all sub-images generated earlier.\n",
    "#### Note we will not be using this however for now, since we are conducting experiment on a small batch.\n",
    "#### for 25 images, for this one time, we have merged answers with submitted answers for easier comparison.\n",
    "#### This is just for reference in case of future tasks."
   ]
  },
  {
   "cell_type": "code",
   "execution_count": 15,
   "id": "persistent-italy",
   "metadata": {},
   "outputs": [],
   "source": [
    "answers = pd.read_csv(answers_path)"
   ]
  },
  {
   "cell_type": "code",
   "execution_count": 16,
   "id": "selective-fifty",
   "metadata": {},
   "outputs": [
    {
     "data": {
      "text/plain": [
       "Index(['image_name', 'W', 'H', 'x', 'y', 'class', 'image_url'], dtype='object')"
      ]
     },
     "execution_count": 16,
     "metadata": {},
     "output_type": "execute_result"
    }
   ],
   "source": [
    "answers.columns"
   ]
  },
  {
   "cell_type": "code",
   "execution_count": 17,
   "id": "constant-fountain",
   "metadata": {},
   "outputs": [
    {
     "data": {
      "text/plain": [
       "(0           Small vehicles\n",
       " 1     Specialized vehicles\n",
       " 2           Small trailers\n",
       " 3           Small vehicles\n",
       " 4           Small vehicles\n",
       " 5           Small vehicles\n",
       " 6           Small vehicles\n",
       " 7             Vans and RVs\n",
       " 8     Specialized vehicles\n",
       " 9     Specialized vehicles\n",
       " 10    Specialized vehicles\n",
       " 11          Small trailers\n",
       " 12          Small trailers\n",
       " 13          Small vehicles\n",
       " 14            Vans and RVs\n",
       " 15                  Trucks\n",
       " 16    Specialized vehicles\n",
       " 17          Small trailers\n",
       " 18    Specialized vehicles\n",
       " 19          Small trailers\n",
       " 20            Vans and RVs\n",
       " 21          Small vehicles\n",
       " 22          Small vehicles\n",
       " 23                  Trucks\n",
       " 24          Small trailers\n",
       " Name: answer, dtype: object,\n",
       " 0      https://mturk-s3-cg.s3.amazonaws.com/task1/batch100/0001_0001/0001_0001_2462-6635.png\n",
       " 1     https://mturk-s3-cg.s3.amazonaws.com/task1/batch100/0001_0001/0001_0001_7835-19327.png\n",
       " 2     https://mturk-s3-cg.s3.amazonaws.com/task1/batch100/0001_0002/0001_0002_13119-7517.png\n",
       " 3      https://mturk-s3-cg.s3.amazonaws.com/task1/batch100/0001_0002/0001_0002_6167-2158.png\n",
       " 4      https://mturk-s3-cg.s3.amazonaws.com/task1/batch100/0001_0002/0001_0002_8768-7900.png\n",
       " 5      https://mturk-s3-cg.s3.amazonaws.com/task1/batch100/0001_0003/0001_0003_1205-6416.png\n",
       " 6      https://mturk-s3-cg.s3.amazonaws.com/task1/batch100/0001_0003/0001_0003_1579-6647.png\n",
       " 7      https://mturk-s3-cg.s3.amazonaws.com/task1/batch100/0001_0003/0001_0003_2524-6381.png\n",
       " 8       https://mturk-s3-cg.s3.amazonaws.com/task1/batch100/0001_0003/0001_0003_4282-733.png\n",
       " 9      https://mturk-s3-cg.s3.amazonaws.com/task1/batch100/0001_0003/0001_0003_4991-9930.png\n",
       " 10     https://mturk-s3-cg.s3.amazonaws.com/task1/batch100/0001_0003/0001_0003_5992-7913.png\n",
       " 11    https://mturk-s3-cg.s3.amazonaws.com/task1/batch100/0001_0003/0001_0003_7915-12682.png\n",
       " 12    https://mturk-s3-cg.s3.amazonaws.com/task1/batch100/0001_0003/0001_0003_8012-12395.png\n",
       " 13    https://mturk-s3-cg.s3.amazonaws.com/task1/batch100/0001_0003/0001_0003_9484-14014.png\n",
       " 14     https://mturk-s3-cg.s3.amazonaws.com/task1/batch100/0001_0004/0001_0004_2866-6797.png\n",
       " 15     https://mturk-s3-cg.s3.amazonaws.com/task1/batch100/0001_0004/0001_0004_3314-2486.png\n",
       " 16     https://mturk-s3-cg.s3.amazonaws.com/task1/batch100/0001_0004/0001_0004_3727-6408.png\n",
       " 17     https://mturk-s3-cg.s3.amazonaws.com/task1/batch100/0001_0004/0001_0004_4334-4596.png\n",
       " 18     https://mturk-s3-cg.s3.amazonaws.com/task1/batch100/0001_0004/0001_0004_4633-7361.png\n",
       " 19     https://mturk-s3-cg.s3.amazonaws.com/task1/batch100/0001_0004/0001_0004_5442-9185.png\n",
       " 20     https://mturk-s3-cg.s3.amazonaws.com/task1/batch100/0001_0004/0001_0004_6124-8562.png\n",
       " 21     https://mturk-s3-cg.s3.amazonaws.com/task1/batch100/0001_0004/0001_0004_687-10289.png\n",
       " 22     https://mturk-s3-cg.s3.amazonaws.com/task1/batch100/0001_0004/0001_0004_7734-3872.png\n",
       " 23     https://mturk-s3-cg.s3.amazonaws.com/task1/batch100/0001_0005/0001_0005_12039-543.png\n",
       " 24    https://mturk-s3-cg.s3.amazonaws.com/task1/batch100/0001_0005/0001_0005_4967-11932.png\n",
       " Name: image_url, dtype: object)"
      ]
     },
     "execution_count": 17,
     "metadata": {},
     "output_type": "execute_result"
    }
   ],
   "source": [
    "pd.set_option('display.max_colwidth', None)\n",
    "all_answers['answer'][:25],all_answers['image_url'][:25]"
   ]
  },
  {
   "cell_type": "code",
   "execution_count": 18,
   "id": "indie-tucson",
   "metadata": {},
   "outputs": [
    {
     "name": "stdout",
     "output_type": "stream",
     "text": [
      "Number of answers 25\n"
     ]
    }
   ],
   "source": [
    "this_answers = all_answers['answer'][:25].to_list()\n",
    "print(\"Number of answers\",len(this_answers))"
   ]
  },
  {
   "cell_type": "code",
   "execution_count": 19,
   "id": "applied-internship",
   "metadata": {},
   "outputs": [],
   "source": [
    "labels = set(answers)\n",
    "labels = ['Trucks', 'Small trailers', 'Specialized vehicles',\n",
    "       'Large trailers', 'Small vehicles', 'Vans and RVs','Buses']"
   ]
  },
  {
   "cell_type": "code",
   "execution_count": 20,
   "id": "charged-inquiry",
   "metadata": {},
   "outputs": [],
   "source": [
    "hitids = list(all_answers.groupby(['HITId']).groups.keys())"
   ]
  },
  {
   "cell_type": "code",
   "execution_count": 21,
   "id": "peripheral-jamaica",
   "metadata": {},
   "outputs": [
    {
     "name": "stdout",
     "output_type": "stream",
     "text": [
      "Number of HITs 3\n"
     ]
    }
   ],
   "source": [
    "print(\"Number of HITs\",len(hitids))"
   ]
  },
  {
   "cell_type": "code",
   "execution_count": 22,
   "id": "subjective-layer",
   "metadata": {},
   "outputs": [],
   "source": [
    "hit_wise_scores = dict()\n",
    "for id in hitids:\n",
    "    hit_wise_scores[id] = dict() "
   ]
  },
  {
   "cell_type": "code",
   "execution_count": 23,
   "id": "automated-gallery",
   "metadata": {},
   "outputs": [],
   "source": [
    "import numpy as np\n",
    "a = np.arange(1,16)"
   ]
  },
  {
   "cell_type": "code",
   "execution_count": 24,
   "id": "romance-millennium",
   "metadata": {},
   "outputs": [],
   "source": [
    "def cm2df(cm, labels, worker_hitid):\n",
    "    df = pd.DataFrame()\n",
    "    \n",
    "    # rows\n",
    "    for i, row_label in enumerate(labels):\n",
    "        rowdata={}\n",
    "        # columns\n",
    "        for j, col_label in enumerate(labels): \n",
    "            rowdata[col_label]=cm[i,j]\n",
    "        df = df.append(pd.DataFrame.from_dict({row_label:rowdata}, orient='index'))\n",
    "    \n",
    "    #df.style.set_table_attributes(\"style='display:inline'\").set_caption(worker_hitid)\n",
    "    return df[labels]"
   ]
  },
  {
   "cell_type": "code",
   "execution_count": 25,
   "id": "divine-customer",
   "metadata": {},
   "outputs": [],
   "source": [
    "def get_cm_stats(answer_labels, worker_hit_labels,labels,isnormalized=False,hitid=\"\",g=\"\"):\n",
    "    old_settings = np.seterr(all='ignore')\n",
    "    \n",
    "    mcm = multilabel_confusion_matrix(answer_labels, worker_hit_labels, labels=labels)\n",
    "    \n",
    "    #extract individual components of confusion matrix for each class\n",
    "    \n",
    "    all_cm = []\n",
    "    all_stats =[]\n",
    "    series = pd.DataFrame()\n",
    "    if not isnormalized:\n",
    "        for cm,label in zip(mcm,labels):\n",
    "            tn, fp, fn, tp = cm.ravel()\n",
    "            tn = cm[0][0]\n",
    "            fn = cm[1][0]\n",
    "            tp = cm[1][1]\n",
    "            fp = cm[0][1]\n",
    "\n",
    "            # we want to send two different values sets, one with \"tpr\",\"precision\",\"tnr\",\"npv\",\"fpr\",\"fnr\",\"fdr\",\"accuracy\" and\n",
    "            # another with tp,fp,fn,tn (raw components from each class's confusion matrix)\n",
    "            all_stats.append([hitid,g,label,tp/(tp+fn),tn/(tn+fp),tp/(tp+fp),tn/(tn+fn),fp/(fp+tn),fn/(tp+fn),fp/(tp+fp),(tp+tn)/(tp+fp+fn+tn)])\n",
    "                                    #columns=[\"label\",\"tpr\",\"precision\",\"tnr\",\"npv\",\"fpr\",\"fnr\",\"fdr\",\"acc\"])\n",
    "            all_cm.append([hitid,g,label,tp,fp,fn,tn])\n",
    "\n",
    "    else:\n",
    "        for cm,label in zip(mcm,labels):\n",
    "            ncm = cm.astype('float') / cm.sum(axis=1)[:, np.newaxis]\n",
    "            #print(cm,cm.sum(axis=1),cm.astype('float') / cm.sum(axis=1)[:, np.newaxis])\n",
    "            tn = ncm[0][0]\n",
    "            fn = ncm[1][0]\n",
    "            tp = ncm[1][1]\n",
    "            fp = ncm[0][1]\n",
    "            all_stats.append([hitid,g,label,tp/(tp+fn),tn/(tn+fp),tp/(tp+fp),tn/(tn+fn),fp/(fp+tn),fn/(tp+fn),fp/(tp+fp),(tp+tn)/(tp+fp+fn+tn)])\n",
    "            all_cm.append([hitid,g,label,tp,fp,fn,tn])\n",
    "    return all_cm, all_stats"
   ]
  },
  {
   "cell_type": "markdown",
   "id": "boolean-singles",
   "metadata": {},
   "source": [
    "###  The following is calculation for voting accuracy if 5 choose 3 workers were voted for minimum agreement"
   ]
  },
  {
   "cell_type": "code",
   "execution_count": 26,
   "id": "graduate-skating",
   "metadata": {},
   "outputs": [],
   "source": [
    "results = {} \n",
    "count = 1\n",
    "groupwise_stats = pd.DataFrame(columns=[\"group\",\"class\",\"tpr\",\"precision\",\"tnr\",\"npv\",\"fpr\",\"fnr\",\"fdr\",\"acc\"])\n",
    "groupwise_cm = pd.DataFrame(columns=[\"hitid\",\"group\",\"class\",\"tp\",\"fp\",\"fn\",\"tn\"])\n",
    "\n",
    "all_cm = []\n",
    "all_stats = []"
   ]
  },
  {
   "cell_type": "code",
   "execution_count": 27,
   "id": "australian-jaguar",
   "metadata": {},
   "outputs": [
    {
     "name": "stdout",
     "output_type": "stream",
     "text": [
      "10\n",
      "10\n",
      "10\n",
      "3\n"
     ]
    }
   ],
   "source": [
    "# 5 choose 3\n",
    "print(\"****************************5 choose 3*********************************************\")\n",
    "for hitid in hitids:\n",
    "    results[hitid] = {}\n",
    "    this_hit = all_answers[all_answers['HITId'] == hitid]\n",
    "    workers = list(this_hit.groupby(['WorkerId']).groups.keys())\n",
    "    c = list(combinations(workers,3 ))\n",
    "    \n",
    "    #print(\"combinations\",len(c))\n",
    "    count = 1\n",
    "    \n",
    "    # 5_c_3 computation over list of workers. We have 5 worker assignment per HIT task. So we choose 3 of 5 and calculate accuracy by vote.\n",
    "    # 5 choose 3\n",
    "    for v in c:\n",
    "        g = str(count) + \"_\"+hitid\n",
    "        #print(v)\n",
    "        worker1 = this_hit[(this_hit['WorkerId'] == v[0])]['submitted'].to_list()\n",
    "        worker2 = this_hit[(this_hit['WorkerId'] == v[1])]['submitted'].to_list()\n",
    "        worker3 = this_hit[(this_hit['WorkerId'] == v[2])]['submitted'].to_list()\n",
    "        three_answers = list(zip(worker1,worker2,worker3))\n",
    "        this_group = []\n",
    "        results[hitid][v] = []\n",
    "        #print(len(three_answers))\n",
    "        \n",
    "        #for 3 workers\n",
    "        \n",
    "        for answer in three_answers:\n",
    "            d = Counter(answer)\n",
    "            val,l =  d.most_common(1)[0]\n",
    "            \n",
    "            #if atleast 3 or 2 answers among 3 workers' answers agree with each other\n",
    "            # choose that answer\n",
    "            if l == 3 or l==2:\n",
    "                #print(val)\n",
    "                this_group.append(val)\n",
    "            \n",
    "            # else pick one of the answers randomly\n",
    "            else:\n",
    "                this_group.append(random.choice(answer))\n",
    "\n",
    "        cms, stats = get_cm_stats(this_answers, this_group, labels,True,hitid,str(count))\n",
    "        for cm in cms:\n",
    "            #print(cm)\n",
    "            all_cm.append(cm)\n",
    "            \n",
    "        all_stats.extend(stats)\n",
    "        results[hitid][v] = this_group\n",
    "        count += 1\n",
    "        \n",
    "        #print(hitid, v, this_group)\n",
    "    print(len(results[hitid]))\n",
    "groupwise_stats = pd.DataFrame(all_stats, columns=[\"hitid\",\"group\",\"class\",\"tpr\",\"precision\",\"tnr\",\"npv\",\"fpr\",\"fnr\",\"fdr\",\"acc\"])\n",
    "groupwise_cm = pd.DataFrame(all_cm, columns=[\"hitid\",\"group\",\"class\",\"tp\",\"fp\",\"fn\",\"tn\"])\n",
    "print(\"*****************\",len(results),\"*************************\")"
   ]
  },
  {
   "cell_type": "code",
   "execution_count": 28,
   "id": "premier-scientist",
   "metadata": {},
   "outputs": [
    {
     "data": {
      "text/plain": [
       "210"
      ]
     },
     "execution_count": 28,
     "metadata": {},
     "output_type": "execute_result"
    }
   ],
   "source": [
    "len(groupwise_cm)"
   ]
  },
  {
   "cell_type": "code",
   "execution_count": 29,
   "id": "animated-antenna",
   "metadata": {},
   "outputs": [
    {
     "data": {
      "text/html": [
       "<div>\n",
       "<style scoped>\n",
       "    .dataframe tbody tr th:only-of-type {\n",
       "        vertical-align: middle;\n",
       "    }\n",
       "\n",
       "    .dataframe tbody tr th {\n",
       "        vertical-align: top;\n",
       "    }\n",
       "\n",
       "    .dataframe thead th {\n",
       "        text-align: right;\n",
       "    }\n",
       "</style>\n",
       "<table border=\"1\" class=\"dataframe\">\n",
       "  <thead>\n",
       "    <tr style=\"text-align: right;\">\n",
       "      <th></th>\n",
       "      <th>group</th>\n",
       "      <th>class</th>\n",
       "      <th>tpr</th>\n",
       "      <th>precision</th>\n",
       "      <th>tnr</th>\n",
       "      <th>npv</th>\n",
       "      <th>fpr</th>\n",
       "      <th>fnr</th>\n",
       "      <th>fdr</th>\n",
       "      <th>acc</th>\n",
       "    </tr>\n",
       "  </thead>\n",
       "  <tbody>\n",
       "    <tr>\n",
       "      <th>0</th>\n",
       "      <td>1</td>\n",
       "      <td>Trucks</td>\n",
       "      <td>0.500000</td>\n",
       "      <td>1.000000</td>\n",
       "      <td>1.000000</td>\n",
       "      <td>0.666667</td>\n",
       "      <td>0.000000</td>\n",
       "      <td>0.500000</td>\n",
       "      <td>0.000000</td>\n",
       "      <td>0.750000</td>\n",
       "    </tr>\n",
       "    <tr>\n",
       "      <th>1</th>\n",
       "      <td>1</td>\n",
       "      <td>Small trailers</td>\n",
       "      <td>0.666667</td>\n",
       "      <td>0.947368</td>\n",
       "      <td>0.926829</td>\n",
       "      <td>0.739726</td>\n",
       "      <td>0.052632</td>\n",
       "      <td>0.333333</td>\n",
       "      <td>0.073171</td>\n",
       "      <td>0.807018</td>\n",
       "    </tr>\n",
       "    <tr>\n",
       "      <th>2</th>\n",
       "      <td>1</td>\n",
       "      <td>Specialized vehicles</td>\n",
       "      <td>0.833333</td>\n",
       "      <td>0.947368</td>\n",
       "      <td>0.940594</td>\n",
       "      <td>0.850394</td>\n",
       "      <td>0.052632</td>\n",
       "      <td>0.166667</td>\n",
       "      <td>0.059406</td>\n",
       "      <td>0.890351</td>\n",
       "    </tr>\n",
       "    <tr>\n",
       "      <th>3</th>\n",
       "      <td>1</td>\n",
       "      <td>Large trailers</td>\n",
       "      <td>NaN</td>\n",
       "      <td>0.960000</td>\n",
       "      <td>NaN</td>\n",
       "      <td>NaN</td>\n",
       "      <td>0.040000</td>\n",
       "      <td>NaN</td>\n",
       "      <td>NaN</td>\n",
       "      <td>NaN</td>\n",
       "    </tr>\n",
       "    <tr>\n",
       "      <th>4</th>\n",
       "      <td>1</td>\n",
       "      <td>Small vehicles</td>\n",
       "      <td>1.000000</td>\n",
       "      <td>0.882353</td>\n",
       "      <td>0.894737</td>\n",
       "      <td>1.000000</td>\n",
       "      <td>0.117647</td>\n",
       "      <td>0.000000</td>\n",
       "      <td>0.105263</td>\n",
       "      <td>0.941176</td>\n",
       "    </tr>\n",
       "  </tbody>\n",
       "</table>\n",
       "</div>"
      ],
      "text/plain": [
       "  group                 class       tpr  precision       tnr       npv  \\\n",
       "0     1                Trucks  0.500000   1.000000  1.000000  0.666667   \n",
       "1     1        Small trailers  0.666667   0.947368  0.926829  0.739726   \n",
       "2     1  Specialized vehicles  0.833333   0.947368  0.940594  0.850394   \n",
       "3     1        Large trailers       NaN   0.960000       NaN       NaN   \n",
       "4     1        Small vehicles  1.000000   0.882353  0.894737  1.000000   \n",
       "\n",
       "        fpr       fnr       fdr       acc  \n",
       "0  0.000000  0.500000  0.000000  0.750000  \n",
       "1  0.052632  0.333333  0.073171  0.807018  \n",
       "2  0.052632  0.166667  0.059406  0.890351  \n",
       "3  0.040000       NaN       NaN       NaN  \n",
       "4  0.117647  0.000000  0.105263  0.941176  "
      ]
     },
     "execution_count": 29,
     "metadata": {},
     "output_type": "execute_result"
    }
   ],
   "source": [
    "groupwise_stats[[\"group\",\"class\",\"tpr\",\"precision\",\"tnr\",\"npv\",\"fpr\",\"fnr\",\"fdr\",\"acc\"]].head()"
   ]
  },
  {
   "cell_type": "markdown",
   "id": "failing-fifth",
   "metadata": {},
   "source": [
    "#### Group the results by worker's voted answers and plot the results for True Positive Rate"
   ]
  },
  {
   "cell_type": "code",
   "execution_count": 30,
   "id": "serial-contrary",
   "metadata": {},
   "outputs": [
    {
     "data": {
      "text/plain": [
       "[nan, nan, 0.73, 1.0, 0.81, 0.48, 0.5]"
      ]
     },
     "execution_count": 30,
     "metadata": {},
     "output_type": "execute_result"
    }
   ],
   "source": [
    "print(\"GroupBy /inner join over class vs True positive rate since we are interested to calculate onlt True Positive rate here (due to imbalanced class distriubutions)\")\n",
    "byclass = groupwise_stats[['class', 'tpr']].groupby(['class'],as_index = False)['tpr']\n",
    "classes = byclass.mean()['class'].tolist()\n",
    "mean = byclass.mean()\n",
    "np.round(mean['tpr'],2).tolist()\n",
    "#save_file(mean, os.path.join(output_results,\"average_tpr_groupby_class_voted_accuracy.csv\"))"
   ]
  },
  {
   "cell_type": "code",
   "execution_count": 31,
   "id": "regional-installation",
   "metadata": {},
   "outputs": [
    {
     "data": {
      "text/plain": [
       "([0, 1, 2, 3, 4, 5, 6],\n",
       " ['Buses',\n",
       "  'Large trailers',\n",
       "  'Small trailers',\n",
       "  'Small vehicles',\n",
       "  'Specialized vehicles',\n",
       "  'Trucks',\n",
       "  'Vans and RVs'])"
      ]
     },
     "execution_count": 31,
     "metadata": {},
     "output_type": "execute_result"
    }
   ],
   "source": [
    "classes\n",
    "ticks = [i for i in range(len(classes))]\n",
    "ticks, classes"
   ]
  },
  {
   "cell_type": "markdown",
   "id": "native-retail",
   "metadata": {},
   "source": [
    "### get the variance and standard deviation for True Positive rate"
   ]
  },
  {
   "cell_type": "code",
   "execution_count": 32,
   "id": "married-alloy",
   "metadata": {},
   "outputs": [
    {
     "data": {
      "text/plain": [
       "[nan,\n",
       " nan,\n",
       " 0.010504469987228612,\n",
       " 0.0,\n",
       " 0.018646232439335896,\n",
       " 0.12902298850574717,\n",
       " 0.07471264367816094]"
      ]
     },
     "execution_count": 32,
     "metadata": {},
     "output_type": "execute_result"
    }
   ],
   "source": [
    "var = byclass.var()['tpr']\n",
    "std = byclass.std()['tpr']\n",
    "var.tolist()"
   ]
  },
  {
   "cell_type": "markdown",
   "id": "ambient-finger",
   "metadata": {},
   "source": [
    "### save the results to CSV file"
   ]
  },
  {
   "cell_type": "code",
   "execution_count": 33,
   "id": "permanent-heath",
   "metadata": {},
   "outputs": [],
   "source": [
    "df1 = pd.DataFrame([mean['tpr'].tolist(), var.tolist(),std.tolist()],columns=[classes], index = [\"Mean\", \"Variance\", \"Std Dev\"] ).transpose()\n",
    "df1.to_csv(os.path.join(output_results,\"meanvarstd_tpr_groupby_class_voted_accuracy_5worker.csv\"))"
   ]
  },
  {
   "cell_type": "code",
   "execution_count": 34,
   "id": "infinite-honey",
   "metadata": {},
   "outputs": [
    {
     "data": {
      "image/png": "[encoded data removed]",
      "text/plain": [
       "<Figure size 1080x360 with 1 Axes>"
      ]
     },
     "metadata": {
      "needs_background": "light"
     },
     "output_type": "display_data"
    }
   ],
   "source": [
    "roundedmean = np.round(mean['tpr'],2)\n",
    "fig, ax = plt.subplots(figsize=(15,5))\n",
    "ax.bar(range(len(classes)), roundedmean, yerr=std, align='center', alpha=0.5, ecolor='black', capsize=10)\n",
    "ax.set_ylabel('TPR %')\n",
    "ax.set_ylim(0,1.05)\n",
    "ax.set_xlim(-1,len(classes))\n",
    "ax.set_xticks(range(len(classes)))\n",
    "ax.set_xticklabels(classes)\n",
    "ax.set_title('Average True Positive Rate for Vehicle classes for Voted Accuracy (5 choose 3 workers)')\n",
    "ax.yaxis.grid(True)\n",
    "for i in range(len(classes)):\n",
    "    ax.annotate(roundedmean[i], (i, roundedmean[i]))\n",
    "# Save the figure\n",
    "plt.tight_layout()\n",
    "plt.savefig(os.path.join(output_results,'bar_plot_with_error_bars_5workers.png'))\n",
    "plt.show()"
   ]
  },
  {
   "cell_type": "markdown",
   "id": "gorgeous-preserve",
   "metadata": {},
   "source": [
    "### Save the confusion matrix for 5 choose 3 voted accuracy to CSV file"
   ]
  },
  {
   "cell_type": "code",
   "execution_count": 35,
   "id": "virtual-astronomy",
   "metadata": {},
   "outputs": [],
   "source": [
    "save_file(groupwise_cm,os.path.join(output_results,\"groupwise_cm.csv\"))"
   ]
  },
  {
   "cell_type": "markdown",
   "id": "different-cambridge",
   "metadata": {},
   "source": [
    "###  The following is calculation for voting accuracy if all 5 workers were voted for minimum agreement"
   ]
  },
  {
   "cell_type": "code",
   "execution_count": 36,
   "id": "mexican-providence",
   "metadata": {},
   "outputs": [],
   "source": [
    "results = {} \n",
    "count = 1\n",
    "groupwise_stats_5 = pd.DataFrame(columns=[\"group\",\"class\",\"tpr\",\"precision\",\"tnr\",\"npv\",\"fpr\",\"fnr\",\"fdr\",\"acc\"])\n",
    "groupwise_cm_5 = pd.DataFrame(columns=[\"hitid\",\"group\",\"class\",\"tp\",\"fp\",\"fn\",\"tn\"])\n",
    "\n",
    "all_cm = []\n",
    "all_stats = []"
   ]
  },
  {
   "cell_type": "markdown",
   "id": "south-cambodia",
   "metadata": {},
   "source": [
    "#### In this variation of Voted accuracy algorithm, we attempt to find accuracy if 5 workers were chosen."
   ]
  },
  {
   "cell_type": "code",
   "execution_count": 37,
   "id": "engaged-jerusalem",
   "metadata": {},
   "outputs": [
    {
     "name": "stdout",
     "output_type": "stream",
     "text": [
      "combinations 1\n",
      "25\n",
      "['1', 'Trucks', 0.5, 0.0, 0.5, 1.0]\n",
      "['1', 'Small trailers', 0.8333333333333334, 0.05263157894736842, 0.16666666666666666, 0.9473684210526315]\n",
      "['1', 'Specialized vehicles', 0.8333333333333334, 0.05263157894736842, 0.16666666666666666, 0.9473684210526315]\n",
      "['1', 'Large trailers', nan, 0.0, nan, 1.0]\n",
      "['1', 'Small vehicles', 1.0, 0.11764705882352941, 0.0, 0.8823529411764706]\n",
      "['1', 'Vans and RVs', 0.6666666666666666, 0.0, 0.3333333333333333, 1.0]\n",
      "['1', 'Buses', nan, 0.0, nan, 1.0]\n",
      "1\n",
      "combinations 1\n",
      "25\n",
      "['1', 'Trucks', 0.5, 0.0, 0.5, 1.0]\n",
      "['1', 'Small trailers', 0.8333333333333334, 0.0, 0.16666666666666666, 1.0]\n",
      "['1', 'Specialized vehicles', 0.8333333333333334, 0.05263157894736842, 0.16666666666666666, 0.9473684210526315]\n",
      "['1', 'Large trailers', nan, 0.12, nan, 0.88]\n",
      "['1', 'Small vehicles', 1.0, 0.058823529411764705, 0.0, 0.9411764705882353]\n",
      "['1', 'Vans and RVs', 0.3333333333333333, 0.0, 0.6666666666666666, 1.0]\n",
      "['1', 'Buses', nan, 0.0, nan, 1.0]\n",
      "1\n",
      "combinations 1\n",
      "25\n",
      "['1', 'Trucks', 0.5, 0.0, 0.5, 1.0]\n",
      "['1', 'Small trailers', 0.6666666666666666, 0.05263157894736842, 0.3333333333333333, 0.9473684210526315]\n",
      "['1', 'Specialized vehicles', 0.8333333333333334, 0.05263157894736842, 0.16666666666666666, 0.9473684210526315]\n",
      "['1', 'Large trailers', nan, 0.12, nan, 0.88]\n",
      "['1', 'Small vehicles', 1.0, 0.058823529411764705, 0.0, 0.9411764705882353]\n",
      "['1', 'Vans and RVs', 0.3333333333333333, 0.0, 0.6666666666666666, 1.0]\n",
      "['1', 'Buses', nan, 0.0, nan, 1.0]\n",
      "1\n",
      "3\n"
     ]
    }
   ],
   "source": [
    "print(\"****************************5 workers voted accuracy (we want odd number so we can assess accuracy more correctly)*********************************************\")\n",
    "\n",
    "for hitid in hitids:\n",
    "    results[hitid] = {}\n",
    "    this_hit = all_answers[all_answers['HITId'] == hitid]\n",
    "    workers = list(this_hit.groupby(['WorkerId']).groups.keys())\n",
    "    c = list(combinations(workers,5 ))\n",
    "    print(\"combinations\",len(c))\n",
    "    count = 1\n",
    "    for v in c:\n",
    "        g = str(count) + \"_\"+hitid\n",
    "        #print(v)\n",
    "        worker1 = this_hit[(this_hit['WorkerId'] == v[0])]['submitted'].to_list()\n",
    "        worker2 = this_hit[(this_hit['WorkerId'] == v[1])]['submitted'].to_list()\n",
    "        worker3 = this_hit[(this_hit['WorkerId'] == v[2])]['submitted'].to_list()\n",
    "        worker4 = this_hit[(this_hit['WorkerId'] == v[3])]['submitted'].to_list()\n",
    "        worker5 = this_hit[(this_hit['WorkerId'] == v[4])]['submitted'].to_list()\n",
    "        three_answers = list(zip(worker1,worker2,worker3,worker4,worker5))\n",
    "        this_group = []\n",
    "        results[hitid][v] = []\n",
    "        print(len(three_answers))\n",
    "        for answer in three_answers:\n",
    "            d = Counter(answer)\n",
    "            val,l =  d.most_common(1)[0]\n",
    "            if l == 5 or l == 4 or l == 3 or l ==2:\n",
    "                #print(val)\n",
    "                this_group.append(val)\n",
    "            else:\n",
    "                this_group.append(random.choice(answer))\n",
    "\n",
    "        cms, stats = get_cm_stats(this_answers, this_group, labels,True,hitid,str(count))\n",
    "        for cm in cms:\n",
    "            print(cm[1:])\n",
    "            all_cm.append(cm)\n",
    "        all_stats.extend(stats)\n",
    "        results[hitid][v] = this_group\n",
    "        count += 1\n",
    "        #print(hitid, v, this_group)\n",
    "    print(len(results[hitid]))\n",
    "\n",
    "groupwise_stats_5 = pd.DataFrame(all_stats, columns=[\"hitid\",\"group\",\"class\",\"tpr\",\"precision\",\"tnr\",\"npv\",\"fpr\",\"fnr\",\"fdr\",\"acc\"])\n",
    "groupwise_cm_5 = pd.DataFrame(all_cm, columns=[\"hitid\",\"group\",\"class\",\"tp\",\"fp\",\"fn\",\"tn\"])\n",
    "print(\"***********************\",len(results),\"**************************\")"
   ]
  },
  {
   "cell_type": "code",
   "execution_count": 38,
   "id": "matched-contrast",
   "metadata": {},
   "outputs": [
    {
     "data": {
      "text/plain": [
       "21"
      ]
     },
     "execution_count": 38,
     "metadata": {},
     "output_type": "execute_result"
    }
   ],
   "source": [
    "len(groupwise_stats_5)"
   ]
  },
  {
   "cell_type": "code",
   "execution_count": 39,
   "id": "adapted-model",
   "metadata": {},
   "outputs": [
    {
     "data": {
      "text/plain": [
       "['hitid', 'group', 'class', 'tp', 'fp', 'fn', 'tn']"
      ]
     },
     "execution_count": 39,
     "metadata": {},
     "output_type": "execute_result"
    }
   ],
   "source": [
    "list(groupwise_cm_5.keys())"
   ]
  },
  {
   "cell_type": "code",
   "execution_count": 40,
   "id": "revised-vaccine",
   "metadata": {},
   "outputs": [
    {
     "data": {
      "text/html": [
       "<div>\n",
       "<style scoped>\n",
       "    .dataframe tbody tr th:only-of-type {\n",
       "        vertical-align: middle;\n",
       "    }\n",
       "\n",
       "    .dataframe tbody tr th {\n",
       "        vertical-align: top;\n",
       "    }\n",
       "\n",
       "    .dataframe thead th {\n",
       "        text-align: right;\n",
       "    }\n",
       "</style>\n",
       "<table border=\"1\" class=\"dataframe\">\n",
       "  <thead>\n",
       "    <tr style=\"text-align: right;\">\n",
       "      <th></th>\n",
       "      <th>group</th>\n",
       "      <th>class</th>\n",
       "      <th>tpr</th>\n",
       "      <th>precision</th>\n",
       "      <th>tnr</th>\n",
       "      <th>npv</th>\n",
       "      <th>fpr</th>\n",
       "      <th>fnr</th>\n",
       "      <th>fdr</th>\n",
       "      <th>acc</th>\n",
       "    </tr>\n",
       "  </thead>\n",
       "  <tbody>\n",
       "    <tr>\n",
       "      <th>0</th>\n",
       "      <td>1</td>\n",
       "      <td>Trucks</td>\n",
       "      <td>0.500000</td>\n",
       "      <td>1.000000</td>\n",
       "      <td>1.000000</td>\n",
       "      <td>0.666667</td>\n",
       "      <td>0.000000</td>\n",
       "      <td>0.500000</td>\n",
       "      <td>0.000000</td>\n",
       "      <td>0.750000</td>\n",
       "    </tr>\n",
       "    <tr>\n",
       "      <th>1</th>\n",
       "      <td>1</td>\n",
       "      <td>Small trailers</td>\n",
       "      <td>0.833333</td>\n",
       "      <td>0.947368</td>\n",
       "      <td>0.940594</td>\n",
       "      <td>0.850394</td>\n",
       "      <td>0.052632</td>\n",
       "      <td>0.166667</td>\n",
       "      <td>0.059406</td>\n",
       "      <td>0.890351</td>\n",
       "    </tr>\n",
       "    <tr>\n",
       "      <th>2</th>\n",
       "      <td>1</td>\n",
       "      <td>Specialized vehicles</td>\n",
       "      <td>0.833333</td>\n",
       "      <td>0.947368</td>\n",
       "      <td>0.940594</td>\n",
       "      <td>0.850394</td>\n",
       "      <td>0.052632</td>\n",
       "      <td>0.166667</td>\n",
       "      <td>0.059406</td>\n",
       "      <td>0.890351</td>\n",
       "    </tr>\n",
       "    <tr>\n",
       "      <th>3</th>\n",
       "      <td>1</td>\n",
       "      <td>Large trailers</td>\n",
       "      <td>NaN</td>\n",
       "      <td>1.000000</td>\n",
       "      <td>NaN</td>\n",
       "      <td>NaN</td>\n",
       "      <td>0.000000</td>\n",
       "      <td>NaN</td>\n",
       "      <td>NaN</td>\n",
       "      <td>NaN</td>\n",
       "    </tr>\n",
       "    <tr>\n",
       "      <th>4</th>\n",
       "      <td>1</td>\n",
       "      <td>Small vehicles</td>\n",
       "      <td>1.000000</td>\n",
       "      <td>0.882353</td>\n",
       "      <td>0.894737</td>\n",
       "      <td>1.000000</td>\n",
       "      <td>0.117647</td>\n",
       "      <td>0.000000</td>\n",
       "      <td>0.105263</td>\n",
       "      <td>0.941176</td>\n",
       "    </tr>\n",
       "  </tbody>\n",
       "</table>\n",
       "</div>"
      ],
      "text/plain": [
       "  group                 class       tpr  precision       tnr       npv  \\\n",
       "0     1                Trucks  0.500000   1.000000  1.000000  0.666667   \n",
       "1     1        Small trailers  0.833333   0.947368  0.940594  0.850394   \n",
       "2     1  Specialized vehicles  0.833333   0.947368  0.940594  0.850394   \n",
       "3     1        Large trailers       NaN   1.000000       NaN       NaN   \n",
       "4     1        Small vehicles  1.000000   0.882353  0.894737  1.000000   \n",
       "\n",
       "        fpr       fnr       fdr       acc  \n",
       "0  0.000000  0.500000  0.000000  0.750000  \n",
       "1  0.052632  0.166667  0.059406  0.890351  \n",
       "2  0.052632  0.166667  0.059406  0.890351  \n",
       "3  0.000000       NaN       NaN       NaN  \n",
       "4  0.117647  0.000000  0.105263  0.941176  "
      ]
     },
     "execution_count": 40,
     "metadata": {},
     "output_type": "execute_result"
    }
   ],
   "source": [
    "groupwise_stats_5[[\"group\",\"class\",\"tpr\",\"precision\",\"tnr\",\"npv\",\"fpr\",\"fnr\",\"fdr\",\"acc\"]].head()"
   ]
  },
  {
   "cell_type": "markdown",
   "id": "dried-respect",
   "metadata": {},
   "source": [
    "#### Group the results by worker's voted answers and plot the results for True Positive Rate"
   ]
  },
  {
   "cell_type": "code",
   "execution_count": 41,
   "id": "official-island",
   "metadata": {},
   "outputs": [
    {
     "data": {
      "text/plain": [
       "[nan,\n",
       " nan,\n",
       " 0.7777777777777778,\n",
       " 1.0,\n",
       " 0.8333333333333334,\n",
       " 0.5,\n",
       " 0.4444444444444444]"
      ]
     },
     "execution_count": 41,
     "metadata": {},
     "output_type": "execute_result"
    }
   ],
   "source": [
    "print(\"GroupBy /inner join over class vs True positive rate since we are interested to calculate only True Positive rate here (due to imbalanced class distriubutions)\")\n",
    "byclass = groupwise_stats_5[['class', 'tpr']].groupby(['class'],as_index = False)['tpr']\n",
    "classes = byclass.mean()['class'].tolist()\n",
    "mean = byclass.mean()\n",
    "mean['tpr'].tolist()\n",
    "#save_file(mean, os.path.join(output_results,\"average_tpr_groupby_class_voted_accuracy.csv\"))"
   ]
  },
  {
   "cell_type": "code",
   "execution_count": 42,
   "id": "voluntary-australian",
   "metadata": {},
   "outputs": [
    {
     "data": {
      "text/plain": [
       "([0, 1, 2, 3, 4, 5, 6],\n",
       " ['Buses',\n",
       "  'Large trailers',\n",
       "  'Small trailers',\n",
       "  'Small vehicles',\n",
       "  'Specialized vehicles',\n",
       "  'Trucks',\n",
       "  'Vans and RVs'])"
      ]
     },
     "execution_count": 42,
     "metadata": {},
     "output_type": "execute_result"
    }
   ],
   "source": [
    "classes\n",
    "ticks = [i for i in range(len(classes))]\n",
    "ticks, classes"
   ]
  },
  {
   "cell_type": "markdown",
   "id": "changing-august",
   "metadata": {},
   "source": [
    "### get the variance and standard deviation for True Positive rate"
   ]
  },
  {
   "cell_type": "code",
   "execution_count": 43,
   "id": "mature-headline",
   "metadata": {},
   "outputs": [
    {
     "data": {
      "text/plain": [
       "[nan, nan, 0.009259259259259267, 0.0, 0.0, 0.0, 0.03703703703703704]"
      ]
     },
     "execution_count": 43,
     "metadata": {},
     "output_type": "execute_result"
    }
   ],
   "source": [
    "var = byclass.var()['tpr']\n",
    "std = byclass.std()['tpr']\n",
    "var.tolist()"
   ]
  },
  {
   "cell_type": "markdown",
   "id": "ready-inspector",
   "metadata": {},
   "source": [
    "### save the results to CVS file"
   ]
  },
  {
   "cell_type": "code",
   "execution_count": 44,
   "id": "noble-government",
   "metadata": {},
   "outputs": [],
   "source": [
    "df1 = pd.DataFrame([mean['tpr'].tolist(), var.tolist(),std.tolist()],columns=[classes], index = [\"Mean\", \"Variance\", \"Std Dev\"] ).transpose()\n",
    "df1.to_csv(os.path.join(output_results,\"meanvarstd_tpr_groupby_class_voted_accuracy_5worker.csv\"))"
   ]
  },
  {
   "cell_type": "code",
   "execution_count": 45,
   "id": "radical-general",
   "metadata": {},
   "outputs": [
    {
     "data": {
      "image/png": "[encoded data removed]",
      "text/plain": [
       "<Figure size 1080x360 with 1 Axes>"
      ]
     },
     "metadata": {
      "needs_background": "light"
     },
     "output_type": "display_data"
    }
   ],
   "source": [
    "roundedmean = np.round(mean['tpr'],2)\n",
    "fig, ax = plt.subplots(figsize=(15,5))\n",
    "ax.bar(range(len(classes)), roundedmean, yerr=std, align='center', alpha=0.5, ecolor='black', capsize=10)\n",
    "ax.set_ylabel('TPR %')\n",
    "ax.set_ylim(0,1.05)\n",
    "ax.set_xlim(-1,len(classes))\n",
    "ax.set_xticks(range(len(classes)))\n",
    "ax.set_xticklabels(classes)\n",
    "ax.set_title('Average True Positive Rate for Vehicle classes for Voted Accuracy (5 workers)')\n",
    "ax.yaxis.grid(True)\n",
    "for i in range(len(classes)):\n",
    "    ax.annotate(roundedmean[i], (i, roundedmean[i]))\n",
    "# Save the figure\n",
    "plt.tight_layout()\n",
    "plt.savefig(os.path.join(output_results,'bar_plot_with_error_bars_5workers.png'))\n",
    "plt.show()"
   ]
  },
  {
   "cell_type": "markdown",
   "id": "binding-affect",
   "metadata": {},
   "source": [
    "### Save the confusion matrix for 5 workers voted accuracy to CSV file"
   ]
  },
  {
   "cell_type": "code",
   "execution_count": 46,
   "id": "architectural-button",
   "metadata": {},
   "outputs": [],
   "source": [
    "save_file(groupwise_cm_5,os.path.join(output_results,\"groupwise_cm_5.csv\"))"
   ]
  },
  {
   "cell_type": "code",
   "execution_count": 47,
   "id": "difficult-collectible",
   "metadata": {},
   "outputs": [
    {
     "data": {
      "text/html": [
       "<div>\n",
       "<style scoped>\n",
       "    .dataframe tbody tr th:only-of-type {\n",
       "        vertical-align: middle;\n",
       "    }\n",
       "\n",
       "    .dataframe tbody tr th {\n",
       "        vertical-align: top;\n",
       "    }\n",
       "\n",
       "    .dataframe thead th {\n",
       "        text-align: right;\n",
       "    }\n",
       "</style>\n",
       "<table border=\"1\" class=\"dataframe\">\n",
       "  <thead>\n",
       "    <tr style=\"text-align: right;\">\n",
       "      <th></th>\n",
       "      <th>group</th>\n",
       "      <th>class</th>\n",
       "      <th>tp</th>\n",
       "      <th>fp</th>\n",
       "      <th>fn</th>\n",
       "      <th>tn</th>\n",
       "    </tr>\n",
       "  </thead>\n",
       "  <tbody>\n",
       "    <tr>\n",
       "      <th>0</th>\n",
       "      <td>1</td>\n",
       "      <td>Trucks</td>\n",
       "      <td>0.5</td>\n",
       "      <td>0.0</td>\n",
       "      <td>0.5</td>\n",
       "      <td>1.0</td>\n",
       "    </tr>\n",
       "    <tr>\n",
       "      <th>7</th>\n",
       "      <td>1</td>\n",
       "      <td>Trucks</td>\n",
       "      <td>0.5</td>\n",
       "      <td>0.0</td>\n",
       "      <td>0.5</td>\n",
       "      <td>1.0</td>\n",
       "    </tr>\n",
       "    <tr>\n",
       "      <th>14</th>\n",
       "      <td>1</td>\n",
       "      <td>Trucks</td>\n",
       "      <td>0.5</td>\n",
       "      <td>0.0</td>\n",
       "      <td>0.5</td>\n",
       "      <td>1.0</td>\n",
       "    </tr>\n",
       "  </tbody>\n",
       "</table>\n",
       "</div>"
      ],
      "text/plain": [
       "   group   class   tp   fp   fn   tn\n",
       "0      1  Trucks  0.5  0.0  0.5  1.0\n",
       "7      1  Trucks  0.5  0.0  0.5  1.0\n",
       "14     1  Trucks  0.5  0.0  0.5  1.0"
      ]
     },
     "execution_count": 47,
     "metadata": {},
     "output_type": "execute_result"
    }
   ],
   "source": [
    "groupwise_cm_5[[\"group\",\"class\",\"tp\",\"fp\",\"fn\",\"tn\"]][groupwise_cm_5['class'] == 'Trucks']"
   ]
  },
  {
   "cell_type": "code",
   "execution_count": 49,
   "id": "dutch-microwave",
   "metadata": {},
   "outputs": [
    {
     "data": {
      "text/html": [
       "<div>\n",
       "<style scoped>\n",
       "    .dataframe tbody tr th:only-of-type {\n",
       "        vertical-align: middle;\n",
       "    }\n",
       "\n",
       "    .dataframe tbody tr th {\n",
       "        vertical-align: top;\n",
       "    }\n",
       "\n",
       "    .dataframe thead th {\n",
       "        text-align: right;\n",
       "    }\n",
       "</style>\n",
       "<table border=\"1\" class=\"dataframe\">\n",
       "  <thead>\n",
       "    <tr style=\"text-align: right;\">\n",
       "      <th></th>\n",
       "      <th>hitid</th>\n",
       "      <th>group</th>\n",
       "      <th>class</th>\n",
       "      <th>tp</th>\n",
       "      <th>fp</th>\n",
       "      <th>fn</th>\n",
       "      <th>tn</th>\n",
       "    </tr>\n",
       "  </thead>\n",
       "  <tbody>\n",
       "    <tr>\n",
       "      <th>0</th>\n",
       "      <td>3AQN9REUUMYRV96KY0O8M5OI1BPDY4</td>\n",
       "      <td>1</td>\n",
       "      <td>Trucks</td>\n",
       "      <td>0.5</td>\n",
       "      <td>0.000000</td>\n",
       "      <td>0.5</td>\n",
       "      <td>1.000000</td>\n",
       "    </tr>\n",
       "    <tr>\n",
       "      <th>70</th>\n",
       "      <td>3GKAWYFRBWBXMVEJ7DSP9EV6XZJPD5</td>\n",
       "      <td>1</td>\n",
       "      <td>Trucks</td>\n",
       "      <td>1.0</td>\n",
       "      <td>0.043478</td>\n",
       "      <td>0.0</td>\n",
       "      <td>0.956522</td>\n",
       "    </tr>\n",
       "    <tr>\n",
       "      <th>140</th>\n",
       "      <td>3LEG2HW4VM5YS8R9WLC311QYY282F7</td>\n",
       "      <td>1</td>\n",
       "      <td>Trucks</td>\n",
       "      <td>0.5</td>\n",
       "      <td>0.086957</td>\n",
       "      <td>0.5</td>\n",
       "      <td>0.913043</td>\n",
       "    </tr>\n",
       "  </tbody>\n",
       "</table>\n",
       "</div>"
      ],
      "text/plain": [
       "                              hitid group   class   tp        fp   fn  \\\n",
       "0    3AQN9REUUMYRV96KY0O8M5OI1BPDY4     1  Trucks  0.5  0.000000  0.5   \n",
       "70   3GKAWYFRBWBXMVEJ7DSP9EV6XZJPD5     1  Trucks  1.0  0.043478  0.0   \n",
       "140  3LEG2HW4VM5YS8R9WLC311QYY282F7     1  Trucks  0.5  0.086957  0.5   \n",
       "\n",
       "           tn  \n",
       "0    1.000000  \n",
       "70   0.956522  \n",
       "140  0.913043  "
      ]
     },
     "execution_count": 49,
     "metadata": {},
     "output_type": "execute_result"
    }
   ],
   "source": [
    "df = groupwise_cm.iloc[::70, :]\n",
    "df"
   ]
  },
  {
   "cell_type": "code",
   "execution_count": 50,
   "id": "wrapped-dryer",
   "metadata": {},
   "outputs": [],
   "source": [
    "save_file(df,os.path.join(output_results,\"groupwise_accuracies.csv\"))"
   ]
  },
  {
   "cell_type": "code",
   "execution_count": 51,
   "id": "failing-marks",
   "metadata": {},
   "outputs": [
    {
     "data": {
      "text/html": [
       "<div>\n",
       "<style scoped>\n",
       "    .dataframe tbody tr th:only-of-type {\n",
       "        vertical-align: middle;\n",
       "    }\n",
       "\n",
       "    .dataframe tbody tr th {\n",
       "        vertical-align: top;\n",
       "    }\n",
       "\n",
       "    .dataframe thead th {\n",
       "        text-align: right;\n",
       "    }\n",
       "</style>\n",
       "<table border=\"1\" class=\"dataframe\">\n",
       "  <thead>\n",
       "    <tr style=\"text-align: right;\">\n",
       "      <th></th>\n",
       "      <th>WorkerId</th>\n",
       "      <th>HITId</th>\n",
       "      <th>image_url</th>\n",
       "      <th>count</th>\n",
       "    </tr>\n",
       "  </thead>\n",
       "  <tbody>\n",
       "    <tr>\n",
       "      <th>0</th>\n",
       "      <td>A16BGGCNJF87IX</td>\n",
       "      <td>3LEG2HW4VM5YS8R9WLC311QYY282F7</td>\n",
       "      <td>https://mturk-s3-cg.s3.amazonaws.com/task1/batch100/0001_0001/0001_0001_2462-6635.png</td>\n",
       "      <td>1</td>\n",
       "    </tr>\n",
       "    <tr>\n",
       "      <th>1</th>\n",
       "      <td>A16BGGCNJF87IX</td>\n",
       "      <td>3LEG2HW4VM5YS8R9WLC311QYY282F7</td>\n",
       "      <td>https://mturk-s3-cg.s3.amazonaws.com/task1/batch100/0001_0001/0001_0001_7835-19327.png</td>\n",
       "      <td>1</td>\n",
       "    </tr>\n",
       "    <tr>\n",
       "      <th>2</th>\n",
       "      <td>A16BGGCNJF87IX</td>\n",
       "      <td>3LEG2HW4VM5YS8R9WLC311QYY282F7</td>\n",
       "      <td>https://mturk-s3-cg.s3.amazonaws.com/task1/batch100/0001_0002/0001_0002_13119-7517.png</td>\n",
       "      <td>1</td>\n",
       "    </tr>\n",
       "    <tr>\n",
       "      <th>3</th>\n",
       "      <td>A16BGGCNJF87IX</td>\n",
       "      <td>3LEG2HW4VM5YS8R9WLC311QYY282F7</td>\n",
       "      <td>https://mturk-s3-cg.s3.amazonaws.com/task1/batch100/0001_0002/0001_0002_6167-2158.png</td>\n",
       "      <td>1</td>\n",
       "    </tr>\n",
       "    <tr>\n",
       "      <th>4</th>\n",
       "      <td>A16BGGCNJF87IX</td>\n",
       "      <td>3LEG2HW4VM5YS8R9WLC311QYY282F7</td>\n",
       "      <td>https://mturk-s3-cg.s3.amazonaws.com/task1/batch100/0001_0002/0001_0002_8768-7900.png</td>\n",
       "      <td>1</td>\n",
       "    </tr>\n",
       "    <tr>\n",
       "      <th>...</th>\n",
       "      <td>...</td>\n",
       "      <td>...</td>\n",
       "      <td>...</td>\n",
       "      <td>...</td>\n",
       "    </tr>\n",
       "    <tr>\n",
       "      <th>370</th>\n",
       "      <td>AJRY9ALX8069Y</td>\n",
       "      <td>3AQN9REUUMYRV96KY0O8M5OI1BPDY4</td>\n",
       "      <td>https://mturk-s3-cg.s3.amazonaws.com/task1/batch100/0001_0004/0001_0004_6124-8562.png</td>\n",
       "      <td>1</td>\n",
       "    </tr>\n",
       "    <tr>\n",
       "      <th>371</th>\n",
       "      <td>AJRY9ALX8069Y</td>\n",
       "      <td>3AQN9REUUMYRV96KY0O8M5OI1BPDY4</td>\n",
       "      <td>https://mturk-s3-cg.s3.amazonaws.com/task1/batch100/0001_0004/0001_0004_687-10289.png</td>\n",
       "      <td>1</td>\n",
       "    </tr>\n",
       "    <tr>\n",
       "      <th>372</th>\n",
       "      <td>AJRY9ALX8069Y</td>\n",
       "      <td>3AQN9REUUMYRV96KY0O8M5OI1BPDY4</td>\n",
       "      <td>https://mturk-s3-cg.s3.amazonaws.com/task1/batch100/0001_0004/0001_0004_7734-3872.png</td>\n",
       "      <td>1</td>\n",
       "    </tr>\n",
       "    <tr>\n",
       "      <th>373</th>\n",
       "      <td>AJRY9ALX8069Y</td>\n",
       "      <td>3AQN9REUUMYRV96KY0O8M5OI1BPDY4</td>\n",
       "      <td>https://mturk-s3-cg.s3.amazonaws.com/task1/batch100/0001_0005/0001_0005_12039-543.png</td>\n",
       "      <td>1</td>\n",
       "    </tr>\n",
       "    <tr>\n",
       "      <th>374</th>\n",
       "      <td>AJRY9ALX8069Y</td>\n",
       "      <td>3AQN9REUUMYRV96KY0O8M5OI1BPDY4</td>\n",
       "      <td>https://mturk-s3-cg.s3.amazonaws.com/task1/batch100/0001_0005/0001_0005_4967-11932.png</td>\n",
       "      <td>1</td>\n",
       "    </tr>\n",
       "  </tbody>\n",
       "</table>\n",
       "<p>375 rows × 4 columns</p>\n",
       "</div>"
      ],
      "text/plain": [
       "           WorkerId                           HITId  \\\n",
       "0    A16BGGCNJF87IX  3LEG2HW4VM5YS8R9WLC311QYY282F7   \n",
       "1    A16BGGCNJF87IX  3LEG2HW4VM5YS8R9WLC311QYY282F7   \n",
       "2    A16BGGCNJF87IX  3LEG2HW4VM5YS8R9WLC311QYY282F7   \n",
       "3    A16BGGCNJF87IX  3LEG2HW4VM5YS8R9WLC311QYY282F7   \n",
       "4    A16BGGCNJF87IX  3LEG2HW4VM5YS8R9WLC311QYY282F7   \n",
       "..              ...                             ...   \n",
       "370   AJRY9ALX8069Y  3AQN9REUUMYRV96KY0O8M5OI1BPDY4   \n",
       "371   AJRY9ALX8069Y  3AQN9REUUMYRV96KY0O8M5OI1BPDY4   \n",
       "372   AJRY9ALX8069Y  3AQN9REUUMYRV96KY0O8M5OI1BPDY4   \n",
       "373   AJRY9ALX8069Y  3AQN9REUUMYRV96KY0O8M5OI1BPDY4   \n",
       "374   AJRY9ALX8069Y  3AQN9REUUMYRV96KY0O8M5OI1BPDY4   \n",
       "\n",
       "                                                                                  image_url  \\\n",
       "0     https://mturk-s3-cg.s3.amazonaws.com/task1/batch100/0001_0001/0001_0001_2462-6635.png   \n",
       "1    https://mturk-s3-cg.s3.amazonaws.com/task1/batch100/0001_0001/0001_0001_7835-19327.png   \n",
       "2    https://mturk-s3-cg.s3.amazonaws.com/task1/batch100/0001_0002/0001_0002_13119-7517.png   \n",
       "3     https://mturk-s3-cg.s3.amazonaws.com/task1/batch100/0001_0002/0001_0002_6167-2158.png   \n",
       "4     https://mturk-s3-cg.s3.amazonaws.com/task1/batch100/0001_0002/0001_0002_8768-7900.png   \n",
       "..                                                                                      ...   \n",
       "370   https://mturk-s3-cg.s3.amazonaws.com/task1/batch100/0001_0004/0001_0004_6124-8562.png   \n",
       "371   https://mturk-s3-cg.s3.amazonaws.com/task1/batch100/0001_0004/0001_0004_687-10289.png   \n",
       "372   https://mturk-s3-cg.s3.amazonaws.com/task1/batch100/0001_0004/0001_0004_7734-3872.png   \n",
       "373   https://mturk-s3-cg.s3.amazonaws.com/task1/batch100/0001_0005/0001_0005_12039-543.png   \n",
       "374  https://mturk-s3-cg.s3.amazonaws.com/task1/batch100/0001_0005/0001_0005_4967-11932.png   \n",
       "\n",
       "     count  \n",
       "0        1  \n",
       "1        1  \n",
       "2        1  \n",
       "3        1  \n",
       "4        1  \n",
       "..     ...  \n",
       "370      1  \n",
       "371      1  \n",
       "372      1  \n",
       "373      1  \n",
       "374      1  \n",
       "\n",
       "[375 rows x 4 columns]"
      ]
     },
     "execution_count": 51,
     "metadata": {},
     "output_type": "execute_result"
    }
   ],
   "source": [
    "all_answers.groupby(['WorkerId','HITId','image_url']).size().reset_index().rename(columns={0:'count'})"
   ]
  },
  {
   "cell_type": "code",
   "execution_count": 52,
   "id": "plastic-cherry",
   "metadata": {},
   "outputs": [
    {
     "data": {
      "text/plain": [
       "376"
      ]
     },
     "execution_count": 52,
     "metadata": {},
     "output_type": "execute_result"
    }
   ],
   "source": [
    "len(all_answers.groupby(['WorkerId','HITId','image_url']))"
   ]
  },
  {
   "cell_type": "code",
   "execution_count": null,
   "id": "driving-borough",
   "metadata": {},
   "outputs": [],
   "source": []
  }
 ],
 "metadata": {
  "kernelspec": {
   "display_name": "Python 3",
   "language": "python",
   "name": "python3"
  },
  "language_info": {
   "codemirror_mode": {
    "name": "ipython",
    "version": 3
   },
   "file_extension": ".py",
   "mimetype": "text/x-python",
   "name": "python",
   "nbconvert_exporter": "python",
   "pygments_lexer": "ipython3",
   "version": "3.9.1"
  }
 },
 "nbformat": 4,
 "nbformat_minor": 5
}
