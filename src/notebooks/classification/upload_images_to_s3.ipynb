{
 "cells": [
  {
   "cell_type": "code",
   "execution_count": 1,
   "metadata": {},
   "outputs": [
    {
     "name": "stdout",
     "output_type": "stream",
     "text": [
      "Pillow Version: 8.1.0\n"
     ]
    }
   ],
   "source": [
    "from PIL import Image,ImageDraw\n",
    "import json\n",
    "import numpy as np\n",
    "from matplotlib import pyplot as plt\n",
    "from math import floor\n",
    "Image.MAX_IMAGE_PIXELS = None\n",
    "import urllib.request, json\n",
    "import requests\n",
    "from io import BytesIO\n",
    "import os\n",
    "from urllib.parse import urlparse\n",
    "\n",
    "import logging\n",
    "import boto3\n",
    "from botocore.exceptions import ClientError\n",
    "\n",
    "# check Pillow version number\n",
    "import PIL\n",
    "print('Pillow Version:', PIL.__version__)\n",
    "import numpy as np\n",
    "import os\n",
    "from pathlib import Path\n",
    "import re\n",
    "import json\n",
    "# load and show an image with Pillow\n",
    "from PIL import Image\n",
    "Image.MAX_IMAGE_PIXELS = None\n",
    "import matplotlib.pyplot as plt"
   ]
  },
  {
   "cell_type": "code",
   "execution_count": 2,
   "metadata": {},
   "outputs": [],
   "source": [
    "def upload_file(file_path:os.path, bucket, object_name=None):\n",
    "    \"\"\"Upload a file to an S3 bucket\n",
    "\n",
    "    :param file_name: File to upload\n",
    "    :param bucket: Bucket to upload to\n",
    "    :param object_name: S3 object name. If not specified then file_name is used\n",
    "    :return: True if file was uploaded, else False\n",
    "    \"\"\"\n",
    "    #print(\"S3 parameters validation\")\n",
    "    assert file_path or bucket or object_name, \"File name is empty\"\n",
    "    #print(file_path, bucket, object_name)\n",
    "\n",
    "\n",
    "    # If S3 object_name was not specified, use file_name\n",
    "    if object_name is None:\n",
    "        object_name = file_path\n",
    "\n",
    "    # Upload the file\n",
    "    this_response = None\n",
    "    s3 = boto3.resource('s3')\n",
    "\n",
    "\n",
    "    #print(\"Connect to S3 API\")\n",
    "    try:\n",
    "        with open(file_path, 'rb') as f:\n",
    "            this_response = s3.Bucket('mturk-s3-cg').put_object(Key=object_name, Body=f,ContentType='image/jpeg',ACL='public-read')\n",
    "        #print(\"Uploading to S3 is complete!\", this_response)\n",
    "    except ClientError as e:\n",
    "        logging.error(e)\n",
    "        return False\n",
    "    return True"
   ]
  },
  {
   "cell_type": "markdown",
   "metadata": {},
   "source": [
    "### Get source folder to upload sub images from for classification HIT tasks"
   ]
  },
  {
   "cell_type": "code",
   "execution_count": 3,
   "metadata": {},
   "outputs": [
    {
     "name": "stdout",
     "output_type": "stream",
     "text": [
      "File directory to upload is here C:\\Users\\exx\\Documents\\lab\\code\\classification\\notebooks\\task1\n",
      "{'overlap': 0.2, 'tile_size': 400, 'class_thumbnail_sizes': {'bus': 171, 'van_rv': 127, 'small': 101, 'specialized': 111, 'truck': 223, 'trailer_large': 219, 'trailer_small': 101, 'unknown': 127}, 'marker_color': [200, 200, 200, 255], 'point_color': [255, 0, 0], 'bb_color': [255, 0, 0], 'bucketname': 'mturk-s3-cg', 'classify_images_folder': 'task2-images/LINZ/', 'bb_images_folder': 'task1-images/LINZ/', 's3_url': 'https://mturk-s3-cg.s3.amazonaws.com/'}\n",
      "Config file loaded. C:\\Users\\exx\\Documents\\lab\\code\\config\\config.json\n"
     ]
    }
   ],
   "source": [
    "path = Path(os.getcwd())\n",
    "\n",
    "#get new folder's storage entry folder, there on, folders likely similar ?\n",
    "filedir = path.joinpath(path, \"task1\")\n",
    "if os.path.exists(filedir):\n",
    "    print(\"File directory to upload is here %s\"%str(filedir))\n",
    "else:\n",
    "    assert os.path.exists(filedir),\"Image files directory does not exist. Please check and give correct path. %s\"%str(filedir)\n",
    "\n",
    "main_folders = [filedir.joinpath(name) for name in os.listdir(filedir)] \n",
    "\n",
    "results = dict()\n",
    "this_directory = None\n",
    "\n",
    "#load json config\n",
    "config_file_path =os.path.join(\"Enter correct path of config folder\",\"config\", \"config.json\")\n",
    "if  os.path.exists(config_file_path):\n",
    "    with open(config_file_path, \"r\") as jsonfile:\n",
    "        config = json.load(jsonfile)\n",
    "        print(config)\n",
    "        assert config, \"Config JSON has errors or is empty.\"\n",
    "        \n",
    "bucketname = config[\"bucketname\"]\n",
    "classify_images_folder = \"task1/batch100/\"\n",
    "\n",
    "print(\"Config file loaded. %s\"%str(config_file_path))"
   ]
  },
  {
   "cell_type": "markdown",
   "metadata": {},
   "source": [
    "#### For each main image folder name, get all sub-images and upload each one of them to S3"
   ]
  },
  {
   "cell_type": "code",
   "execution_count": 7,
   "metadata": {},
   "outputs": [
    {
     "name": "stdout",
     "output_type": "stream",
     "text": [
      "C:\\Users\\exx\\Documents\\lab\\code\\classification\\notebooks\\task1\\0001_0001 11\n",
      "C:\\Users\\exx\\Documents\\lab\\code\\classification\\notebooks\\task1\\0001_0002 26\n",
      "C:\\Users\\exx\\Documents\\lab\\code\\classification\\notebooks\\task1\\0001_0003 70\n",
      "C:\\Users\\exx\\Documents\\lab\\code\\classification\\notebooks\\task1\\0001_0004 77\n",
      "C:\\Users\\exx\\Documents\\lab\\code\\classification\\notebooks\\task1\\0001_0005 9\n",
      "C:\\Users\\exx\\Documents\\lab\\code\\classification\\notebooks\\task1\\0001_0006 19\n"
     ]
    }
   ],
   "source": [
    "count = 0\n",
    "for f in main_folders:\n",
    "    this_key = None\n",
    "    for root, dir, files in os.walk(f):\n",
    "        #ignore ipynb_checkpoints folders\n",
    "        if re.search(\".ipynb_checkpoints\",os.path.basename(Path(root))):\n",
    "            continue\n",
    "        print(root, len(files))\n",
    "\n",
    "        for file in files:\n",
    "            foldername = os.path.basename(root)\n",
    "            filename = os.path.join(root, file)\n",
    "            object_name = classify_images_folder+foldername+\"/\"+os.path.basename(filename)\n",
    "            if upload_file(filename, bucketname, object_name):\n",
    "                count += 1\n",
    "                        "
   ]
  },
  {
   "cell_type": "code",
   "execution_count": 8,
   "metadata": {},
   "outputs": [
    {
     "data": {
      "text/plain": [
       "212"
      ]
     },
     "execution_count": 8,
     "metadata": {},
     "output_type": "execute_result"
    }
   ],
   "source": [
    "count"
   ]
  },
  {
   "cell_type": "code",
   "execution_count": null,
   "metadata": {},
   "outputs": [],
   "source": []
  }
 ],
 "metadata": {
  "kernelspec": {
   "display_name": "Python 3",
   "language": "python",
   "name": "python3"
  },
  "language_info": {
   "codemirror_mode": {
    "name": "ipython",
    "version": 3
   },
   "file_extension": ".py",
   "mimetype": "text/x-python",
   "name": "python",
   "nbconvert_exporter": "python",
   "pygments_lexer": "ipython3",
   "version": "3.8.3"
  }
 },
 "nbformat": 4,
 "nbformat_minor": 5
}
